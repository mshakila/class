{
 "cells": [
  {
   "cell_type": "markdown",
   "metadata": {},
   "source": [
    "# Natural Language Processing with Python\n",
    "\n",
    "Natural language processing is a field of computer science, artificial intelligence, and computational linguistics concerned with the interactions between computers and human (natural) languages. As such, NLP is related to the area of human–computer interaction. Many challenges in NLP involve: natural language understanding, enabling computers to derive meaning from human or natural language input; and others involve natural language generation."
   ]
  },
  {
   "cell_type": "markdown",
   "metadata": {},
   "source": [
    "## Terminology"
   ]
  },
  {
   "cell_type": "markdown",
   "metadata": {},
   "source": [
    "### Corpous\n",
    "Corpus is a large collection of texts. It is a body of written or spoken material upon which a linguistic analysis is based. The plural form of corpus is corpora. Some popular corpora are British National Corpus (BNC), COBUILD/Birmingham Corpus, IBM/Lancaster Spoken English Corpus. Monolingual corpora represent only one language while bilingual corpora represent two languages.\n",
    "\n",
    "A corpus provides grammarians, lexicographers, and other interested parties with better discriptions of a language. Computer-procesable corpora allow linguists to adopt the principle of total accountability, retrieving all the occurrences of a particular word or structure for inspection or randomly selcted samples. Corpus analysis provide lexical information, morphosyntactic information, semantic information and pragmatic information."
   ]
  },
  {
   "cell_type": "markdown",
   "metadata": {},
   "source": [
    "### Tokens\n",
    "\n",
    "Given a character sequence and a defined document unit, tokenization is the task of chopping it up into pieces, called **tokens**, perhaps at the same time throwing away certain characters, such as punctuation. \n",
    "\n",
    "What is a token? There is a technical definition in NLP, but we can think about them as **data** that represent meaningful units of text:\n",
    "\n",
    "- Words\n",
    "- Phrases\n",
    "- Punctuation\n",
    "- Numbers\n",
    "- bi-grams"
   ]
  },
  {
   "cell_type": "markdown",
   "metadata": {},
   "source": [
    "### Stemming\n",
    "\n",
    "Stemming is the process of reducing inflected (or sometimes derived) words to their word stem, base or root form—generally a written word form.\n",
    "\n",
    "A stemmer for English, for example, should identify the string \"cats\" (and possibly \"catlike\", \"catty\" etc.) as based on the root \"cat\", and \"stems\", \"stemmer\", \"stemming\", \"stemmed\" as based on \"stem\". A stemming algorithm reduces the words \"fishing\", \"fished\", and \"fisher\" to the root word, \"fish\". On the other hand, \"argue\", \"argued\", \"argues\", \"arguing\", and \"argus\" reduce to the stem \"argu\" (illustrating the case where the stem is not itself a word or root) but \"argument\" and \"arguments\" reduce to the stem \"argument\"."
   ]
  },
  {
   "cell_type": "markdown",
   "metadata": {},
   "source": [
    "### Stop Words\n",
    "\n",
    "Sometimes, some extremely common words which would appear to be of little value in getting usuful information about documents are excluded from the vocabulary entirely. These words are called stop words. Though stop words usually refer to the most common words in a language, there is no single universal list of stop words used by all natural language processing tools.\n",
    "\n",
    "![](http://nlp.stanford.edu/IR-book/html/htmledition/img95.png)"
   ]
  },
  {
   "cell_type": "markdown",
   "metadata": {},
   "source": [
    "## NLTK\n",
    "\n",
    "NLTK is a leading platform for building Python programs to work with human language data. It provides easy-to-use interfaces to over 50 corpora and lexical resources such as WordNet, along with a suite of text processing libraries for classification, tokenization, stemming, tagging, parsing, and semantic reasoning, wrappers for industrial-strength NLP libraries, and an active discussion forum.\n",
    "\n",
    "Thanks to a hands-on guide introducing programming fundamentals alongside topics in computational linguistics, plus comprehensive API documentation, NLTK is suitable for linguists, engineers, students, educators, researchers, and industry users alike."
   ]
  },
  {
   "cell_type": "markdown",
   "metadata": {},
   "source": [
    "<table summary=\"Language processing tasks and corresponding NLTK modules with\n",
    "        examples of functionality\" style=\"border-collapse: collapse;border-top: 0.5pt solid ; border-bottom: 0.5pt solid ; border-left: 0.5pt solid ; border-right: 0.5pt solid ; \"><colgroup><col><col><col></colgroup><thead><tr><th style=\"border-right: 0.5pt solid ; border-bottom: 0.5pt solid ; \"><p>Language processing task</p></th><th style=\"border-right: 0.5pt solid ; border-bottom: 0.5pt solid ; \"><p>NLTK modules</p></th><th style=\"border-bottom: 0.5pt solid ; \"><p>Functionality</p></th></tr></thead><tbody><tr><td style=\"border-right: 0.5pt solid ; border-bottom: 0.5pt solid ; \"><p>Accessing corpora</p></td><td style=\"border-right: 0.5pt solid ; border-bottom: 0.5pt solid ; \"><p>nltk.corpus</p></td><td style=\"border-bottom: 0.5pt solid ; \"><p>Standardized interfaces to corpora and\n",
    "              lexicons</p></td></tr><tr><td style=\"border-right: 0.5pt solid ; border-bottom: 0.5pt solid ; \"><p>String processing</p></td><td style=\"border-right: 0.5pt solid ; border-bottom: 0.5pt solid ; \"><p>nltk.tokenize, nltk.stem</p></td><td style=\"border-bottom: 0.5pt solid ; \"><p>Tokenizers, sentence tokenizers,\n",
    "              stemmers</p></td></tr><tr><td style=\"border-right: 0.5pt solid ; border-bottom: 0.5pt solid ; \"><p>Collocation discovery</p></td><td style=\"border-right: 0.5pt solid ; border-bottom: 0.5pt solid ; \"><p>nltk.collocations</p></td><td style=\"border-bottom: 0.5pt solid ; \"><p>t-test, chi-squared, point-wise mutual\n",
    "              information</p></td></tr><tr><td style=\"border-right: 0.5pt solid ; border-bottom: 0.5pt solid ; \"><p>Part-of-speech tagging</p></td><td style=\"border-right: 0.5pt solid ; border-bottom: 0.5pt solid ; \"><p>nltk.tag</p></td><td style=\"border-bottom: 0.5pt solid ; \"><p>n-gram, backoff, Brill, HMM, TnT</p></td></tr><tr><td style=\"border-right: 0.5pt solid ; border-bottom: 0.5pt solid ; \"><p>Classification</p></td><td style=\"border-right: 0.5pt solid ; border-bottom: 0.5pt solid ; \"><p>nltk.classify, nltk.cluster</p></td><td style=\"border-bottom: 0.5pt solid ; \"><p>Decision tree, maximum entropy, naive Bayes, EM,\n",
    "              k-means</p></td></tr><tr><td style=\"border-right: 0.5pt solid ; border-bottom: 0.5pt solid ; \"><p>Chunking</p></td><td style=\"border-right: 0.5pt solid ; border-bottom: 0.5pt solid ; \"><p>nltk.chunk</p></td><td style=\"border-bottom: 0.5pt solid ; \"><p>Regular expression, n-gram, named\n",
    "              entity</p></td></tr><tr><td style=\"border-right: 0.5pt solid ; border-bottom: 0.5pt solid ; \"><p>Parsing</p></td><td style=\"border-right: 0.5pt solid ; border-bottom: 0.5pt solid ; \"><p>nltk.parse</p></td><td style=\"border-bottom: 0.5pt solid ; \"><p>Chart, feature-based, unification, probabilistic,\n",
    "              dependency</p></td></tr><tr><td style=\"border-right: 0.5pt solid ; border-bottom: 0.5pt solid ; \"><p>Semantic interpretation</p></td><td style=\"border-right: 0.5pt solid ; border-bottom: 0.5pt solid ; \"><p>nltk.sem, nltk.inference</p></td><td style=\"border-bottom: 0.5pt solid ; \"><p>Lambda calculus, first-order logic, model\n",
    "              checking</p></td></tr><tr><td style=\"border-right: 0.5pt solid ; border-bottom: 0.5pt solid ; \"><p>Evaluation metrics</p></td><td style=\"border-right: 0.5pt solid ; border-bottom: 0.5pt solid ; \"><p>nltk.metrics</p></td><td style=\"border-bottom: 0.5pt solid ; \"><p>Precision, recall, agreement\n",
    "              coefficients</p></td></tr><tr><td style=\"border-right: 0.5pt solid ; border-bottom: 0.5pt solid ; \"><p>Probability and estimation</p></td><td style=\"border-right: 0.5pt solid ; border-bottom: 0.5pt solid ; \"><p>nltk.probability</p></td><td style=\"border-bottom: 0.5pt solid ; \"><p>Frequency distributions, smoothed probability\n",
    "              distributions</p></td></tr><tr><td style=\"border-right: 0.5pt solid ; border-bottom: 0.5pt solid ; \"><p>Applications</p></td><td style=\"border-right: 0.5pt solid ; border-bottom: 0.5pt solid ; \"><p>nltk.app, nltk.chat</p></td><td style=\"border-bottom: 0.5pt solid ; \"><p>Graphical concordancer, parsers, WordNet browser,\n",
    "              chatbots</p></td></tr><tr><td style=\"border-right: 0.5pt solid ; \"><p>Linguistic fieldwork</p></td><td style=\"border-right: 0.5pt solid ; \"><p>nltk.toolbox</p></td><td style=\"\"><p>Manipulate data in SIL Toolbox\n",
    "              format</p></td></tr></tbody></table>"
   ]
  },
  {
   "cell_type": "markdown",
   "metadata": {},
   "source": [
    "NLTK was designed with four primary goals in mind:\n",
    "    \n",
    "**Simplicity**\n",
    "To provide an intuitive framework along with substantial building blocks, giving users a practical knowledge of NLP without getting bogged down in the tedious house-keeping usually associated with processing annotated language data\n",
    "\n",
    "**Consistency**\n",
    "To provide a uniform framework with consistent interfaces and data structures, and easily guessable method names\n",
    "\n",
    "**Extensibility**\n",
    "To provide a structure into which new software modules can be easily accommodated, including alternative implementations and competing approaches to the same task\n",
    "\n",
    "**Modularity**\n",
    "To provide components that can be used independently without needing to understand the rest of the toolkit"
   ]
  },
  {
   "cell_type": "markdown",
   "metadata": {},
   "source": [
    "### NLTK Installation and use"
   ]
  },
  {
   "cell_type": "markdown",
   "metadata": {},
   "source": [
    "NLTK comes with [Anaconda](https://docs.continuum.io/anaconda/pkg-docs), so you have it already."
   ]
  },
  {
   "cell_type": "code",
   "execution_count": 1,
   "metadata": {
    "collapsed": true
   },
   "outputs": [],
   "source": [
    "import nltk"
   ]
  },
  {
   "cell_type": "code",
   "execution_count": 2,
   "metadata": {
    "collapsed": false
   },
   "outputs": [
    {
     "name": "stdout",
     "output_type": "stream",
     "text": [
      "showing info https://raw.githubusercontent.com/nltk/nltk_data/gh-pages/index.xml\n"
     ]
    },
    {
     "data": {
      "text/plain": [
       "True"
      ]
     },
     "execution_count": 2,
     "metadata": {},
     "output_type": "execute_result"
    }
   ],
   "source": [
    "# Browse the available packages\n",
    "nltk.download()"
   ]
  },
  {
   "cell_type": "code",
   "execution_count": 3,
   "metadata": {
    "collapsed": false
   },
   "outputs": [],
   "source": [
    "text_file = open('sample_article.txt','r')\n",
    "sample_text = text_file.read()\n",
    "text_file.close()"
   ]
  },
  {
   "cell_type": "code",
   "execution_count": 4,
   "metadata": {
    "collapsed": false
   },
   "outputs": [
    {
     "name": "stdout",
     "output_type": "stream",
     "text": [
      "Computer scientists have defined artificial intelligence in many different ways, but at its core, AI involves machines that think the way humans think. Of course, it's very difficult to determine whether or not a machine is \"thinking,\" so on a practical level, creating artificial intelligence involves creating a computer system that is good at doing the kinds of things humans are good at.\n",
      "\n",
      "The idea of creating machines that are as smart as humans goes all the way back to the ancient Greeks, who had myths about automatons created by the gods. In practical terms, however, the idea didn't really take off until 1950.\n",
      "\n",
      "In that year, Alan Turing published a groundbreaking paper called \"Computing Machinery and Intelligence\" that posed the question of whether machines can think. He proposed the famous Turing test, which says, essentially, that a computer can be said to be intelligent if a human judge can't tell whether he is interacting with a human or a machine.\n",
      "\n",
      "The phrase artificial intelligence was coined in 1956 by John McCarthy, who organized an academic conference at Dartmouth dedicated to the topic. At the end of the conference, the attendees recommended further study of \"the conjecture that every aspect of learning or any other feature of intelligence can in principle be so precisely described that a machine can be made to simulate it. An attempt will be made to find how to make machines use language, form abstractions and concepts, solve kinds of problems now reserved for humans, and improve themselves.\"\n",
      "\n",
      "This proposal foreshadowed many of the topics that are of primary concern in artificial intelligence today, including natural language processing, image recognition and classification, and machine learning.\n",
      "\n",
      "In the years immediately after that first conference, artificial intelligence research flourished. However, within a few decades it became apparent that the technology to create machines that could truly be said to be thinking for themselves was many years off.\n",
      "\n",
      "But in the last decade, artificial intelligence has moved from the realms of science fiction to the realm of scientific fact. Stories about IBM's Watson AI winning the game show Jeopardy and Google's AI beating human champions at the game of Go have returned artificial intelligence to the forefront of public consciousness.\n",
      "\n",
      "Today, all of the largest technology companies are investing in AI projects, and most of us interact with AI software every day whenever we use smartphones, social media, Web search engines or ecommerce sites. And one of the types of AI that we interact with most often is machine learning.\n"
     ]
    }
   ],
   "source": [
    "print sample_text"
   ]
  },
  {
   "cell_type": "code",
   "execution_count": 6,
   "metadata": {
    "collapsed": true
   },
   "outputs": [],
   "source": [
    "from nltk.tokenize import word_tokenize, sent_tokenize"
   ]
  },
  {
   "cell_type": "code",
   "execution_count": 17,
   "metadata": {
    "collapsed": false
   },
   "outputs": [
    {
     "name": "stdout",
     "output_type": "stream",
     "text": [
      "Computer , scientists , have , defined , artificial , intelligence , in , many , different , ways , , , but , at , its , core , , , AI , involves , machines , that , think , the , way , humans , think , . , Of , course , , , it , 's , very , difficult , to , determine , whether , or , not , a , machine , is , `` , thinking , , , '' , so , on , a , practical , level , , , creating , artificial , intelligence , involves , creating , a , computer , system , that , is , good , at , doing , the , kinds , of , things , humans , are , good , at , . , The , idea , of , creating , machines , that , are , as , smart , as , humans , goes , all , the , way , back , to , the , ancient , Greeks , , , who , had , myths , about , automatons , created , by , the , gods , . , In , practical , terms , , , however , , , the , idea , did , n't , really , take , off , until , 1950 , . , In , that , year , , , Alan , Turing , published , a , groundbreaking , paper , called , `` , Computing , Machinery , and , Intelligence , '' , that , posed , the , question , of , whether , machines , can , think , . , He , proposed , the , famous , Turing , test , , , which , says , , , essentially , , , that , a , computer , can , be , said , to , be , intelligent , if , a , human , judge , ca , n't , tell , whether , he , is , interacting , with , a , human , or , a , machine , . , The , phrase , artificial , intelligence , was , coined , in , 1956 , by , John , McCarthy , , , who , organized , an , academic , conference , at , Dartmouth , dedicated , to , the , topic , . , At , the , end , of , the , conference , , , the , attendees , recommended , further , study , of , `` , the , conjecture , that , every , aspect , of , learning , or , any , other , feature , of , intelligence , can , in , principle , be , so , precisely , described , that , a , machine , can , be , made , to , simulate , it , . , An , attempt , will , be , made , to , find , how , to , make , machines , use , language , , , form , abstractions , and , concepts , , , solve , kinds , of , problems , now , reserved , for , humans , , , and , improve , themselves , . , '' , This , proposal , foreshadowed , many , of , the , topics , that , are , of , primary , concern , in , artificial , intelligence , today , , , including , natural , language , processing , , , image , recognition , and , classification , , , and , machine , learning , . , In , the , years , immediately , after , that , first , conference , , , artificial , intelligence , research , flourished , . , However , , , within , a , few , decades , it , became , apparent , that , the , technology , to , create , machines , that , could , truly , be , said , to , be , thinking , for , themselves , was , many , years , off , . , But , in , the , last , decade , , , artificial , intelligence , has , moved , from , the , realms , of , science , fiction , to , the , realm , of , scientific , fact , . , Stories , about , IBM , 's , Watson , AI , winning , the , game , show , Jeopardy , and , Google , 's , AI , beating , human , champions , at , the , game , of , Go , have , returned , artificial , intelligence , to , the , forefront , of , public , consciousness , . , Today , , , all , of , the , largest , technology , companies , are , investing , in , AI , projects , , , and , most , of , us , interact , with , AI , software , every , day , whenever , we , use , smartphones , , , social , media , , , Web , search , engines , or , ecommerce , sites , . , And , one , of , the , types , of , AI , that , we , interact , with , most , often , is , machine , learning , . ,\n"
     ]
    }
   ],
   "source": [
    "for x in word_tokenize(sample_text):\n",
    "    print x, ',',"
   ]
  },
  {
   "cell_type": "code",
   "execution_count": 8,
   "metadata": {
    "collapsed": false
   },
   "outputs": [
    {
     "name": "stdout",
     "output_type": "stream",
     "text": [
      "Computer scientists have defined artificial intelligence in many different ways, but at its core, AI involves machines that think the way humans think.\n",
      "\n",
      "Of course, it's very difficult to determine whether or not a machine is \"thinking,\" so on a practical level, creating artificial intelligence involves creating a computer system that is good at doing the kinds of things humans are good at.\n",
      "\n",
      "The idea of creating machines that are as smart as humans goes all the way back to the ancient Greeks, who had myths about automatons created by the gods.\n",
      "\n",
      "In practical terms, however, the idea didn't really take off until 1950.\n",
      "\n",
      "In that year, Alan Turing published a groundbreaking paper called \"Computing Machinery and Intelligence\" that posed the question of whether machines can think.\n",
      "\n",
      "He proposed the famous Turing test, which says, essentially, that a computer can be said to be intelligent if a human judge can't tell whether he is interacting with a human or a machine.\n",
      "\n",
      "The phrase artificial intelligence was coined in 1956 by John McCarthy, who organized an academic conference at Dartmouth dedicated to the topic.\n",
      "\n",
      "At the end of the conference, the attendees recommended further study of \"the conjecture that every aspect of learning or any other feature of intelligence can in principle be so precisely described that a machine can be made to simulate it.\n",
      "\n",
      "An attempt will be made to find how to make machines use language, form abstractions and concepts, solve kinds of problems now reserved for humans, and improve themselves.\"\n",
      "\n",
      "This proposal foreshadowed many of the topics that are of primary concern in artificial intelligence today, including natural language processing, image recognition and classification, and machine learning.\n",
      "\n",
      "In the years immediately after that first conference, artificial intelligence research flourished.\n",
      "\n",
      "However, within a few decades it became apparent that the technology to create machines that could truly be said to be thinking for themselves was many years off.\n",
      "\n",
      "But in the last decade, artificial intelligence has moved from the realms of science fiction to the realm of scientific fact.\n",
      "\n",
      "Stories about IBM's Watson AI winning the game show Jeopardy and Google's AI beating human champions at the game of Go have returned artificial intelligence to the forefront of public consciousness.\n",
      "\n",
      "Today, all of the largest technology companies are investing in AI projects, and most of us interact with AI software every day whenever we use smartphones, social media, Web search engines or ecommerce sites.\n",
      "\n",
      "And one of the types of AI that we interact with most often is machine learning.\n",
      "\n"
     ]
    }
   ],
   "source": [
    "for x in sent_tokenize(sample_text):\n",
    "    print x + '\\n'"
   ]
  },
  {
   "cell_type": "markdown",
   "metadata": {},
   "source": [
    "### Stop Words"
   ]
  },
  {
   "cell_type": "code",
   "execution_count": 9,
   "metadata": {
    "collapsed": true
   },
   "outputs": [],
   "source": [
    "from nltk.corpus import stopwords"
   ]
  },
  {
   "cell_type": "code",
   "execution_count": 10,
   "metadata": {
    "collapsed": false
   },
   "outputs": [
    {
     "name": "stdout",
     "output_type": "stream",
     "text": [
      "i , me , my , myself , we , our , ours , ourselves , you , your , yours , yourself , yourselves , he , him , his , himself , she , her , hers , herself , it , its , itself , they , them , their , theirs , themselves , what , which , who , whom , this , that , these , those , am , is , are , was , were , be , been , being , have , has , had , having , do , does , did , doing , a , an , the , and , but , if , or , because , as , until , while , of , at , by , for , with , about , against , between , into , through , during , before , after , above , below , to , from , up , down , in , out , on , off , over , under , again , further , then , once , here , there , when , where , why , how , all , any , both , each , few , more , most , other , some , such , no , nor , not , only , own , same , so , than , too , very , s , t , can , will , just , don , should , now , d , ll , m , o , re , ve , y , ain , aren , couldn , didn , doesn , hadn , hasn , haven , isn , ma , mightn , mustn , needn , shan , shouldn , wasn , weren , won , wouldn ,\n"
     ]
    }
   ],
   "source": [
    "for x in stopwords.words('english'):\n",
    "    print x, ',',"
   ]
  },
  {
   "cell_type": "code",
   "execution_count": 17,
   "metadata": {
    "collapsed": false
   },
   "outputs": [
    {
     "name": "stdout",
     "output_type": "stream",
     "text": [
      "de , la , que , el , en , y , a , los , del , se , las , por , un , para , con , no , una , su , al , lo , como , más , pero , sus , le , ya , o , este , sí , porque , esta , entre , cuando , muy , sin , sobre , también , me , hasta , hay , donde , quien , desde , todo , nos , durante , todos , uno , les , ni , contra , otros , ese , eso , ante , ellos , e , esto , mí , antes , algunos , qué , unos , yo , otro , otras , otra , él , tanto , esa , estos , mucho , quienes , nada , muchos , cual , poco , ella , estar , estas , algunas , algo , nosotros , mi , mis , tú , te , ti , tu , tus , ellas , nosotras , vosostros , vosostras , os , mío , mía , míos , mías , tuyo , tuya , tuyos , tuyas , suyo , suya , suyos , suyas , nuestro , nuestra , nuestros , nuestras , vuestro , vuestra , vuestros , vuestras , esos , esas , estoy , estás , está , estamos , estáis , están , esté , estés , estemos , estéis , estén , estaré , estarás , estará , estaremos , estaréis , estarán , estaría , estarías , estaríamos , estaríais , estarían , estaba , estabas , estábamos , estabais , estaban , estuve , estuviste , estuvo , estuvimos , estuvisteis , estuvieron , estuviera , estuvieras , estuviéramos , estuvierais , estuvieran , estuviese , estuvieses , estuviésemos , estuvieseis , estuviesen , estando , estado , estada , estados , estadas , estad , he , has , ha , hemos , habéis , han , haya , hayas , hayamos , hayáis , hayan , habré , habrás , habrá , habremos , habréis , habrán , habría , habrías , habríamos , habríais , habrían , había , habías , habíamos , habíais , habían , hube , hubiste , hubo , hubimos , hubisteis , hubieron , hubiera , hubieras , hubiéramos , hubierais , hubieran , hubiese , hubieses , hubiésemos , hubieseis , hubiesen , habiendo , habido , habida , habidos , habidas , soy , eres , es , somos , sois , son , sea , seas , seamos , seáis , sean , seré , serás , será , seremos , seréis , serán , sería , serías , seríamos , seríais , serían , era , eras , éramos , erais , eran , fui , fuiste , fue , fuimos , fuisteis , fueron , fuera , fueras , fuéramos , fuerais , fueran , fuese , fueses , fuésemos , fueseis , fuesen , sintiendo , sentido , sentida , sentidos , sentidas , siente , sentid , tengo , tienes , tiene , tenemos , tenéis , tienen , tenga , tengas , tengamos , tengáis , tengan , tendré , tendrás , tendrá , tendremos , tendréis , tendrán , tendría , tendrías , tendríamos , tendríais , tendrían , tenía , tenías , teníamos , teníais , tenían , tuve , tuviste , tuvo , tuvimos , tuvisteis , tuvieron , tuviera , tuvieras , tuviéramos , tuvierais , tuvieran , tuviese , tuvieses , tuviésemos , tuvieseis , tuviesen , teniendo , tenido , tenida , tenidos , tenidas , tened ,\n"
     ]
    }
   ],
   "source": [
    "for x in stopwords.words('spanish'):\n",
    "    print x, ',',"
   ]
  },
  {
   "cell_type": "markdown",
   "metadata": {},
   "source": [
    "### Stemming"
   ]
  },
  {
   "cell_type": "code",
   "execution_count": 13,
   "metadata": {
    "collapsed": true
   },
   "outputs": [],
   "source": [
    "from nltk.stem import PorterStemmer"
   ]
  },
  {
   "cell_type": "code",
   "execution_count": 14,
   "metadata": {
    "collapsed": false
   },
   "outputs": [],
   "source": [
    "stemmer = PorterStemmer()"
   ]
  },
  {
   "cell_type": "code",
   "execution_count": 15,
   "metadata": {
    "collapsed": false
   },
   "outputs": [
    {
     "name": "stdout",
     "output_type": "stream",
     "text": [
      "program\n",
      "program\n",
      "programm\n",
      "program\n",
      "program\n"
     ]
    }
   ],
   "source": [
    "program_words = ['program', 'programming','programmer','programed','programs']\n",
    "for word in program_words:\n",
    "    print stemmer.stem(word)"
   ]
  },
  {
   "cell_type": "code",
   "execution_count": 16,
   "metadata": {
    "collapsed": false
   },
   "outputs": [
    {
     "name": "stdout",
     "output_type": "stream",
     "text": [
      "Comput scientist have defin artifici intellig in mani differ way , but at it core , AI involv machin that think the way human think . Of cours , it 's veri difficult to determin whether or not a machin is `` think , '' so on a practic level , creat artifici intellig involv creat a comput system that is good at do the kind of thing human are\n"
     ]
    }
   ],
   "source": [
    "my_words = word_tokenize(sample_text)[:70]\n",
    "for word in my_words:\n",
    "    print stemmer.stem(word),"
   ]
  },
  {
   "cell_type": "markdown",
   "metadata": {},
   "source": [
    "## Resources\n",
    "\n",
    "Most popular introductory book for NLP with Python:\n",
    "\n",
    "#### Natural Language Processing with Python:  Analyzing Text with the Natural Language Toolkit\n",
    "** Steven Bird, Ewan Klein, and Edward Loper **\n",
    "\n",
    "http://www.nltk.org/book/"
   ]
  }
 ],
 "metadata": {
  "kernelspec": {
   "display_name": "Python 2",
   "language": "python",
   "name": "python2"
  },
  "language_info": {
   "codemirror_mode": {
    "name": "ipython",
    "version": 2
   },
   "file_extension": ".py",
   "mimetype": "text/x-python",
   "name": "python",
   "nbconvert_exporter": "python",
   "pygments_lexer": "ipython2",
   "version": "2.7.11"
  }
 },
 "nbformat": 4,
 "nbformat_minor": 0
}
