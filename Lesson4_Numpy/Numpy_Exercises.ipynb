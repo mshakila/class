{
 "cells": [
  {
   "cell_type": "markdown",
   "metadata": {},
   "source": [
    "# Numpy Exercises"
   ]
  },
  {
   "cell_type": "code",
   "execution_count": 1,
   "metadata": {
    "collapsed": true
   },
   "outputs": [],
   "source": [
    "import numpy as np"
   ]
  },
  {
   "cell_type": "markdown",
   "metadata": {},
   "source": [
    "#### Print the numpy version"
   ]
  },
  {
   "cell_type": "code",
   "execution_count": 2,
   "metadata": {
    "collapsed": false
   },
   "outputs": [
    {
     "data": {
      "text/plain": [
       "'1.10.4'"
      ]
     },
     "execution_count": 2,
     "metadata": {},
     "output_type": "execute_result"
    }
   ],
   "source": [
    "np.__version__"
   ]
  },
  {
   "cell_type": "markdown",
   "metadata": {},
   "source": [
    "#### Create the following vectors"
   ]
  },
  {
   "cell_type": "code",
   "execution_count": 5,
   "metadata": {
    "collapsed": false
   },
   "outputs": [
    {
     "name": "stdout",
     "output_type": "stream",
     "text": [
      "[ 0.  0.  0.  0.  1.  0.  0.  0.  0.  0.]\n",
      "[ 1  2  3  4  5  6  7  8  9 10 11 12 13 14 15 16 17 18 19 20 21 22 23 24 25\n",
      " 26 27 28 29 30 31 32 33 34 35 36 37 38 39 40 41 42 43 44 45 46 47 48 49]\n",
      "[ 0  5 10 15 20 25 30 35 40 45 50 55 60 65 70 75 80 85 90 95]\n",
      "[95 90 85 80 75 70 65 60 55 50 45 40 35 30 25 20 15 10  5  0]\n"
     ]
    }
   ],
   "source": [
    "# A vector of zeros of size 10 but the fifth value equal to 1\n",
    "x = np.zeros(10)\n",
    "x[4] = 1\n",
    "print(x)\n",
    "\n",
    "# A vector with values ranging from 1 to 50\n",
    "print np.arange(1,50)\n",
    "\n",
    "# A vector with the integer multiples of 5 less than 100\n",
    "print np.arange(0,100,5)\n",
    "\n",
    "# Reverse the vector reciently created (first element becomes last)\n",
    "print np.arange(0,100,5)[::-1]"
   ]
  },
  {
   "cell_type": "markdown",
   "metadata": {},
   "source": [
    "#### Create a 3x3 matrix with values ranging from 1 to 9"
   ]
  },
  {
   "cell_type": "code",
   "execution_count": 10,
   "metadata": {
    "collapsed": false
   },
   "outputs": [
    {
     "data": {
      "text/plain": [
       "array([[1, 2, 3],\n",
       "       [4, 5, 6],\n",
       "       [7, 8, 9]])"
      ]
     },
     "execution_count": 10,
     "metadata": {},
     "output_type": "execute_result"
    }
   ],
   "source": [
    "np.arange(1,10).reshape((3,3))"
   ]
  },
  {
   "cell_type": "code",
   "execution_count": 12,
   "metadata": {
    "collapsed": false
   },
   "outputs": [
    {
     "data": {
      "text/plain": [
       "array([[9, 1, 7],\n",
       "       [7, 9, 4],\n",
       "       [3, 1, 9]])"
      ]
     },
     "execution_count": 12,
     "metadata": {},
     "output_type": "execute_result"
    }
   ],
   "source": [
    "np.random.randint(1,10,size=(3,3))"
   ]
  },
  {
   "cell_type": "markdown",
   "metadata": {},
   "source": [
    "#### Find indices of non-zero elements from ``[1,2,0,0,4,0]``"
   ]
  },
  {
   "cell_type": "code",
   "execution_count": 13,
   "metadata": {
    "collapsed": false
   },
   "outputs": [
    {
     "data": {
      "text/plain": [
       "(array([0, 1, 4], dtype=int64),)"
      ]
     },
     "execution_count": 13,
     "metadata": {},
     "output_type": "execute_result"
    }
   ],
   "source": [
    "x = np.array([1,2,0,0,4,0])\n",
    "np.nonzero(x)"
   ]
  },
  {
   "cell_type": "code",
   "execution_count": 28,
   "metadata": {
    "collapsed": false
   },
   "outputs": [
    {
     "data": {
      "text/plain": [
       "array([False, False, False, False, False,  True, False, False, False, False], dtype=bool)"
      ]
     },
     "execution_count": 28,
     "metadata": {},
     "output_type": "execute_result"
    }
   ],
   "source": [
    "x == 0"
   ]
  },
  {
   "cell_type": "code",
   "execution_count": 15,
   "metadata": {
    "collapsed": false
   },
   "outputs": [
    {
     "data": {
      "text/plain": [
       "(array([2, 3, 5], dtype=int64),)"
      ]
     },
     "execution_count": 15,
     "metadata": {},
     "output_type": "execute_result"
    }
   ],
   "source": [
    "np.where(x == 0)"
   ]
  },
  {
   "cell_type": "code",
   "execution_count": 17,
   "metadata": {
    "collapsed": false
   },
   "outputs": [
    {
     "data": {
      "text/plain": [
       "array([1, 2, 4])"
      ]
     },
     "execution_count": 17,
     "metadata": {},
     "output_type": "execute_result"
    }
   ],
   "source": [
    "x[x > 0]"
   ]
  },
  {
   "cell_type": "markdown",
   "metadata": {},
   "source": [
    "#### Create a 10x10 array with random integers from 0 to 99. Find the minimum and maximum values"
   ]
  },
  {
   "cell_type": "code",
   "execution_count": 19,
   "metadata": {
    "collapsed": false
   },
   "outputs": [
    {
     "data": {
      "text/plain": [
       "array([[50, 67, 63, 23, 99, 63, 30, 64, 28, 93],\n",
       "       [20, 78, 26, 71, 80,  3, 59, 75, 48,  3],\n",
       "       [73,  3, 10, 10, 72, 73, 15, 30, 65, 96],\n",
       "       [47, 19, 33, 27, 28, 56,  5, 10, 64, 59],\n",
       "       [91, 31, 31, 33,  1, 15, 57, 12, 95, 90],\n",
       "       [85, 27, 66, 23, 96, 31, 38, 16, 23, 83],\n",
       "       [83, 29, 69, 63, 45, 70, 91, 35, 43, 74],\n",
       "       [33, 21, 13, 84, 17, 30,  8, 80, 20, 61],\n",
       "       [18, 78, 81, 10,  1, 69, 71, 59, 73, 73],\n",
       "       [95, 43, 75, 47, 14, 93, 61, 64, 32, 15]])"
      ]
     },
     "execution_count": 19,
     "metadata": {},
     "output_type": "execute_result"
    }
   ],
   "source": [
    "rand_array = np.random.randint(0,100, size=(10,10))\n",
    "rand_array"
   ]
  },
  {
   "cell_type": "code",
   "execution_count": 20,
   "metadata": {
    "collapsed": false
   },
   "outputs": [
    {
     "name": "stdout",
     "output_type": "stream",
     "text": [
      "1\n",
      "99\n"
     ]
    }
   ],
   "source": [
    "print rand_array.min()\n",
    "print rand_array.max()"
   ]
  },
  {
   "cell_type": "markdown",
   "metadata": {},
   "source": [
    "#### Create a random vector of size 30 and find the mean and the standard deviation"
   ]
  },
  {
   "cell_type": "code",
   "execution_count": 22,
   "metadata": {
    "collapsed": false
   },
   "outputs": [
    {
     "name": "stdout",
     "output_type": "stream",
     "text": [
      "0.530294747203\n",
      "0.277298730476\n"
     ]
    }
   ],
   "source": [
    "rand2 = np.random.random(30)\n",
    "print rand2.mean()\n",
    "print rand2.std()"
   ]
  },
  {
   "cell_type": "markdown",
   "metadata": {},
   "source": [
    "#### Create random vector of size 10 and replace the maximum value with 0"
   ]
  },
  {
   "cell_type": "code",
   "execution_count": 27,
   "metadata": {
    "collapsed": false
   },
   "outputs": [
    {
     "data": {
      "text/plain": [
       "array([17,  7,  3, 12,  2,  0,  1,  1,  6, 14])"
      ]
     },
     "execution_count": 27,
     "metadata": {},
     "output_type": "execute_result"
    }
   ],
   "source": [
    "x = np.random.randint(0,21,10)\n",
    "x"
   ]
  },
  {
   "cell_type": "code",
   "execution_count": 26,
   "metadata": {
    "collapsed": false
   },
   "outputs": [
    {
     "data": {
      "text/plain": [
       "array([ 1, 13, 13,  8,  9,  0, 14, 19, 15,  1])"
      ]
     },
     "execution_count": 26,
     "metadata": {},
     "output_type": "execute_result"
    }
   ],
   "source": [
    "x[x.argmax()] = 0\n",
    "x"
   ]
  },
  {
   "cell_type": "markdown",
   "metadata": {},
   "source": [
    "#### Create two arrays of size 10 with random integers between 1 and 20. Find common numbers between two arrays."
   ]
  },
  {
   "cell_type": "code",
   "execution_count": null,
   "metadata": {
    "collapsed": true
   },
   "outputs": [],
   "source": []
  },
  {
   "cell_type": "markdown",
   "metadata": {},
   "source": [
    "#### Create a 3 x 5 matrix of random integers from 0 to 9, find the sums of the rows, the columns and the whole matrix"
   ]
  },
  {
   "cell_type": "code",
   "execution_count": null,
   "metadata": {
    "collapsed": true
   },
   "outputs": [],
   "source": []
  },
  {
   "cell_type": "markdown",
   "metadata": {},
   "source": [
    "#### Calculate the values of the function $f(x) = x^2 + 3x - 6$ for 100 numbers in from -2 to 2"
   ]
  },
  {
   "cell_type": "code",
   "execution_count": 29,
   "metadata": {
    "collapsed": false
   },
   "outputs": [
    {
     "data": {
      "text/plain": [
       "array([-8.        , -8.03877155, -8.07427813, -8.10651974, -8.13549638,\n",
       "       -8.16120804, -8.18365473, -8.20283645, -8.21875319, -8.23140496,\n",
       "       -8.24079176, -8.24691358, -8.24977043, -8.24936231, -8.24568922,\n",
       "       -8.23875115, -8.22854811, -8.21508009, -8.19834711, -8.17834915,\n",
       "       -8.15508622, -8.12855831, -8.09876543, -8.06570758, -8.02938476,\n",
       "       -7.98979696, -7.94694419, -7.90082645, -7.85144373, -7.79879604,\n",
       "       -7.74288338, -7.68370574, -7.62126314, -7.55555556, -7.486583  ,\n",
       "       -7.41434547, -7.33884298, -7.2600755 , -7.17804306, -7.09274564,\n",
       "       -7.00418325, -6.91235588, -6.81726354, -6.71890623, -6.61728395,\n",
       "       -6.51239669, -6.40424446, -6.29282726, -6.17814509, -6.06019794,\n",
       "       -5.93898582, -5.81450872, -5.68676666, -5.55575962, -5.4214876 ,\n",
       "       -5.28395062, -5.14314866, -4.99908173, -4.85174982, -4.70115294,\n",
       "       -4.54729109, -4.39016427, -4.22977247, -4.0661157 , -3.89919396,\n",
       "       -3.72900724, -3.55555556, -3.37883889, -3.19885726, -3.01561065,\n",
       "       -2.82909907, -2.63932252, -2.44628099, -2.24997449, -2.05040302,\n",
       "       -1.84756657, -1.64146516, -1.43209877, -1.2194674 , -1.00357106,\n",
       "       -0.78440975, -0.56198347, -0.33629222, -0.10733599,  0.12488522,\n",
       "        0.36037139,  0.59912254,  0.84113866,  1.08641975,  1.33496582,\n",
       "        1.58677686,  1.84185287,  2.10019386,  2.36179982,  2.62667075,\n",
       "        2.89480665,  3.16620753,  3.44087338,  3.7188042 ,  4.        ])"
      ]
     },
     "execution_count": 29,
     "metadata": {},
     "output_type": "execute_result"
    }
   ],
   "source": [
    "x = np.linspace(-2, 2, 100)\n",
    "f = x**2 + 3*x - 6\n",
    "f"
   ]
  },
  {
   "cell_type": "markdown",
   "metadata": {},
   "source": [
    "#### Implement the following algorithm in a function to detect outliers:\n",
    "1. Calculate the first and third quartiles $Q_1, Q_3$ of a vector.\n",
    "1. Calculate the inter-quartile range (IQR) of a vector.\n",
    "2. Categorize as outliers any value outside the intervar $[Q_1 - 1.5IQR, Q_3 + 1.5IQR]$"
   ]
  },
  {
   "cell_type": "code",
   "execution_count": 49,
   "metadata": {
    "collapsed": false
   },
   "outputs": [],
   "source": [
    "x = np.random.randint(0,10,100)"
   ]
  },
  {
   "cell_type": "code",
   "execution_count": 50,
   "metadata": {
    "collapsed": true
   },
   "outputs": [],
   "source": [
    "## Q1: Number in the vector such that 25% of the values in the vector are equal \n",
    "# o less than that number: np.percentile\n",
    "\n",
    "## Q3: Number in the vector such that 75% of the values in the vector are equal \n",
    "# o less than that number: np.percentile\n",
    "\n",
    "## IQR = Q3 - Q1\n",
    "\n",
    "def detect_outliers(vector):\n",
    "    Q1 = np.percentile(vector, q=25)\n",
    "    Q3 = np.percentile(vector, q=75)\n",
    "    IQR = Q3 - Q1\n",
    "    lower = Q1 - 1.5*IQR\n",
    "    upper = Q3 + 1.5*IQR\n",
    "    mask = (vector > upper) | (vector < lower)\n",
    "    return vector[mask]"
   ]
  },
  {
   "cell_type": "code",
   "execution_count": 61,
   "metadata": {
    "collapsed": false
   },
   "outputs": [],
   "source": [
    "x = np.random.normal(100, 10, (10,10))\n",
    "#x"
   ]
  },
  {
   "cell_type": "code",
   "execution_count": 54,
   "metadata": {
    "collapsed": false
   },
   "outputs": [],
   "source": [
    "x[0] = 100\n",
    "x[5] = 200\n",
    "x[9] = 150"
   ]
  },
  {
   "cell_type": "code",
   "execution_count": 55,
   "metadata": {
    "collapsed": false
   },
   "outputs": [
    {
     "data": {
      "text/plain": [
       "array([100, 200, 150])"
      ]
     },
     "execution_count": 55,
     "metadata": {},
     "output_type": "execute_result"
    }
   ],
   "source": [
    "detect_outliers(x)"
   ]
  },
  {
   "cell_type": "markdown",
   "metadata": {},
   "source": [
    "#### Using the same algorithm as before, implement a function that replaces all the outliers with the appropiate endpoint of the given interval (for small outliers use the left endpoint and for large outliers the right one)"
   ]
  },
  {
   "cell_type": "code",
   "execution_count": null,
   "metadata": {
    "collapsed": true
   },
   "outputs": [],
   "source": []
  },
  {
   "cell_type": "markdown",
   "metadata": {},
   "source": [
    "#### Create a 2d array of shape (10,10) with 1 on the border and 0 inside"
   ]
  },
  {
   "cell_type": "code",
   "execution_count": null,
   "metadata": {
    "collapsed": true
   },
   "outputs": [],
   "source": []
  },
  {
   "cell_type": "markdown",
   "metadata": {},
   "source": [
    "#### Using the standard normal distribution create a random vector of size 100. Find the closest value to 1"
   ]
  },
  {
   "cell_type": "code",
   "execution_count": 65,
   "metadata": {
    "collapsed": false
   },
   "outputs": [
    {
     "data": {
      "text/plain": [
       "1.0150403896469427"
      ]
     },
     "execution_count": 65,
     "metadata": {},
     "output_type": "execute_result"
    }
   ],
   "source": [
    "z = np.random.normal(size = 100)\n",
    "index_closest1 = (np.abs(z - 1)).argmin()\n",
    "z[index_closest1]"
   ]
  },
  {
   "cell_type": "markdown",
   "metadata": {},
   "source": [
    "#### Repeate the same excersise as above but this time create a 100 x 10 matrix. Find the closest value to 1 in every column."
   ]
  },
  {
   "cell_type": "code",
   "execution_count": null,
   "metadata": {
    "collapsed": true
   },
   "outputs": [],
   "source": []
  },
  {
   "cell_type": "markdown",
   "metadata": {},
   "source": [
    "#### Create an array of 100 integers from 0 to 9. Find the most and the least frequent values in the array."
   ]
  },
  {
   "cell_type": "code",
   "execution_count": null,
   "metadata": {
    "collapsed": true
   },
   "outputs": [],
   "source": []
  },
  {
   "cell_type": "markdown",
   "metadata": {},
   "source": [
    "#### Simulate tossing a fair coin 20 times, count the number of \"heads\"."
   ]
  },
  {
   "cell_type": "code",
   "execution_count": null,
   "metadata": {
    "collapsed": true
   },
   "outputs": [],
   "source": []
  },
  {
   "cell_type": "markdown",
   "metadata": {},
   "source": [
    "#### As in the last exercise, simulate tossing a fair coin 20 times, do the same simulation 1,000 times. Count the number of \"heads\" for each simulation (save them in an array counts). Report and give an interpretation of the descriptive statistics of counts. Print the distribution of counts"
   ]
  },
  {
   "cell_type": "code",
   "execution_count": null,
   "metadata": {
    "collapsed": true
   },
   "outputs": [],
   "source": []
  }
 ],
 "metadata": {
  "kernelspec": {
   "display_name": "Python 2",
   "language": "python",
   "name": "python2"
  },
  "language_info": {
   "codemirror_mode": {
    "name": "ipython",
    "version": 2
   },
   "file_extension": ".py",
   "mimetype": "text/x-python",
   "name": "python",
   "nbconvert_exporter": "python",
   "pygments_lexer": "ipython2",
   "version": "2.7.11"
  }
 },
 "nbformat": 4,
 "nbformat_minor": 0
}
