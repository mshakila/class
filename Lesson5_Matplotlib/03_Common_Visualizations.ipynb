{
 "cells": [
  {
   "cell_type": "markdown",
   "metadata": {},
   "source": [
    "# Commonly used visualizations in data analytics"
   ]
  },
  {
   "cell_type": "code",
   "execution_count": null,
   "metadata": {
    "collapsed": true
   },
   "outputs": [],
   "source": [
    "%matplotlib inline\n",
    "import numpy as np\n",
    "import matplotlib.pyplot as plt"
   ]
  },
  {
   "cell_type": "markdown",
   "metadata": {},
   "source": [
    "In this notebook we present some of the most commonly used visualizations in data analytics."
   ]
  },
  {
   "cell_type": "markdown",
   "metadata": {},
   "source": [
    "## Line Charts"
   ]
  },
  {
   "cell_type": "markdown",
   "metadata": {},
   "source": [
    "A line chart or line graph is a type of chart which displays information as a series of data points called 'markers' connected by straight line segments"
   ]
  },
  {
   "cell_type": "code",
   "execution_count": null,
   "metadata": {
    "collapsed": false
   },
   "outputs": [],
   "source": [
    "# Generating data\n",
    "x = np.linspace(-np.pi, np.pi, 200)\n",
    "sine, cosine = np.sin(x), np.cos(x)"
   ]
  },
  {
   "cell_type": "code",
   "execution_count": null,
   "metadata": {
    "collapsed": false,
    "scrolled": true
   },
   "outputs": [],
   "source": [
    "fig, ax = plt.subplots()\n",
    "ax.plot(x, sine)\n",
    "ax.plot(x, cosine)"
   ]
  },
  {
   "cell_type": "code",
   "execution_count": null,
   "metadata": {
    "collapsed": false,
    "scrolled": false
   },
   "outputs": [],
   "source": [
    "fig, ax = plt.subplots()\n",
    "ax.plot(x, sine, color='red')\n",
    "ax.plot(x, cosine, color='#110013')"
   ]
  },
  {
   "cell_type": "markdown",
   "metadata": {},
   "source": [
    "### Linestyles\n",
    "Line styles are about as commonly used as colors. There are a few predefined linestyles available to use. Note that there are some advanced techniques to specify some custom line styles. [Here](http://matplotlib.org/1.3.0/examples/lines_bars_and_markers/line_demo_dash_control.html) is an example of a custom dash pattern.\n",
    "\n",
    "linestyle          | description\n",
    "-------------------|------------------------------\n",
    "'-'                | solid\n",
    "'--'               | dashed\n",
    "'-.'               | dashdot\n",
    "':'                | dotted\n",
    "'None'             | draw nothing\n",
    "' '                | draw nothing\n",
    "''                 | draw nothing"
   ]
  },
  {
   "cell_type": "code",
   "execution_count": null,
   "metadata": {
    "collapsed": false,
    "scrolled": true
   },
   "outputs": [],
   "source": [
    "fig, ax = plt.subplots()\n",
    "ax.plot(x, sine, color='red', linestyle='--', linewidth=2.5)\n",
    "ax.plot(x, cosine, color='#110013', linestyle=':', linewidth=2.5);"
   ]
  },
  {
   "cell_type": "markdown",
   "metadata": {},
   "source": [
    "### Other attributes\n",
    "With just about any plot you can make, there are many attributes that can be modified to make the lines and markers suit your needs. Note that for many plotting functions, matplotlib will cycle the colors for each dataset you plot. However, you are free to explicitly state which colors you want used for which plots. For the [`plt.plot()`](http://matplotlib.org/api/pyplot_api.html#matplotlib.pyplot.plot) and [`plt.scatter()`](http://matplotlib.org/api/pyplot_api.html#matplotlib.pyplot.scatter) functions, you can mix the specification for the colors, linestyles, and markers in a single string.\n",
    "\n",
    "\n",
    "| Property               | Value Type                                      \n",
    "|------------------------|-------------------------------------------------\n",
    "|alpha                   | float                                           \n",
    "|color or c              | any matplotlib color                            \n",
    "|drawstyle               | [ ‘default’ ‘steps’ ‘steps-pre’\n",
    "|                        |   ‘steps-mid’ ‘steps-post’ ]\n",
    "|linestyle or ls         | [ '-' '--' '-.' ':' 'None' ' ' ''] \n",
    "|                        | and any drawstyle in combination with a         \n",
    "|                        | linestyle, e.g. 'steps--'.                      \n",
    "|linewidth or lw         | float value in points                           \n",
    "|marker                  | [ 0 1 2 3 4 5 6 7 'o' 'd' 'D' 'h' 'H'\n",
    "|                        |  '' 'None' ' ' `None` '8' 'p' ','\n",
    "|                        |  '+' 'x' '.' 's' '\\*' '\\_' '&#124;'\n",
    "|                        |  '1' '2' '3' '4' 'v' '<' '>' '^' ]\n",
    "|markeredgecolor or mec  | any matplotlib color\n",
    "|markeredgewidth or mew  | float value in points\n",
    "|markerfacecolor or mfc  | any matplotlib color\n",
    "|markersize or ms        | float\n",
    "|visible                 | [`True` `False`]"
   ]
  },
  {
   "cell_type": "code",
   "execution_count": null,
   "metadata": {
    "collapsed": false,
    "scrolled": true
   },
   "outputs": [],
   "source": [
    "fig, ax = plt.subplots()\n",
    "ax.plot(x, sine, color='red', linestyle='-', linewidth=10, alpha=0.25)\n",
    "ax.plot(x, cosine, color='#110013', linestyle=':', linewidth=2.5)"
   ]
  },
  {
   "cell_type": "markdown",
   "metadata": {},
   "source": [
    "### Go to exercise!"
   ]
  },
  {
   "cell_type": "markdown",
   "metadata": {},
   "source": [
    "## Bar plots"
   ]
  },
  {
   "cell_type": "code",
   "execution_count": null,
   "metadata": {
    "collapsed": false
   },
   "outputs": [],
   "source": [
    "# Top 10 countries in the Rio Olympics\n",
    "countries = ['USA','GBR','CHN','RUS','GER','JPN','FRA','KOR','ITA','AUS']\n",
    "gold = [46,27,26,19,17,12,10,9,8,8]\n",
    "silver = [37,23,18,18,10,8,18,3,12,11]\n",
    "bronze = [38,17,26,19,15,21,14,9,8,10]"
   ]
  },
  {
   "cell_type": "code",
   "execution_count": null,
   "metadata": {
    "collapsed": false
   },
   "outputs": [],
   "source": [
    "np.arange(10)"
   ]
  },
  {
   "cell_type": "code",
   "execution_count": null,
   "metadata": {
    "collapsed": false
   },
   "outputs": [],
   "source": [
    "fig, ax = plt.subplots()\n",
    "ax.bar(np.arange(10), gold);"
   ]
  },
  {
   "cell_type": "code",
   "execution_count": null,
   "metadata": {
    "collapsed": false,
    "scrolled": true
   },
   "outputs": [],
   "source": [
    "fig, ax = plt.subplots()\n",
    "ax.bar(np.arange(10), gold)\n",
    "\n",
    "ax.set_xticks(np.arange(0.5,10.5,1));"
   ]
  },
  {
   "cell_type": "code",
   "execution_count": null,
   "metadata": {
    "collapsed": false
   },
   "outputs": [],
   "source": [
    "fig, ax = plt.subplots()\n",
    "ax.bar(np.arange(10), gold)\n",
    "\n",
    "ax.set_xticks(np.arange(0.5,10.5,1))\n",
    "ax.set_xticklabels(countries);"
   ]
  },
  {
   "cell_type": "code",
   "execution_count": null,
   "metadata": {
    "collapsed": false,
    "scrolled": true
   },
   "outputs": [],
   "source": [
    "fig, ax = plt.subplots()\n",
    "ax.bar(np.arange(10), gold, color=\"#FFDF00\")\n",
    "\n",
    "ax.set_xticks(np.arange(0.5,10.5,1))\n",
    "ax.set_xticklabels(countries);"
   ]
  },
  {
   "cell_type": "code",
   "execution_count": null,
   "metadata": {
    "collapsed": false,
    "scrolled": true
   },
   "outputs": [],
   "source": [
    "fig, ax = plt.subplots()\n",
    "ax.bar(np.arange(10), gold, color=\"#FFDF00\")\n",
    "\n",
    "ax.set_xticks(np.arange(0.5,10.5,1))\n",
    "ax.set_xticklabels(countries)\n",
    "\n",
    "ax.set_title('Gold Medals at Rio', size=14)\n",
    "ax.set_xlabel('Country')\n",
    "ax.set_ylabel('Number of golds');"
   ]
  },
  {
   "cell_type": "code",
   "execution_count": null,
   "metadata": {
    "collapsed": false,
    "scrolled": true
   },
   "outputs": [],
   "source": [
    "fig, ax = plt.subplots(figsize=(10,5.5))\n",
    "ax.bar(np.arange(10), gold, color=\"#FFDF00\", width=0.4, label='Gold')\n",
    "ax.bar(np.arange(10)+0.4, silver, color=\"#C0C0C0\", width=0.4, label='Silver')\n",
    "\n",
    "ax.set_xticks(np.arange(0.4,10.4,1))\n",
    "ax.set_xticklabels(countries)\n",
    "\n",
    "ax.set_title('Gold and Silver Medals at Rio', size=16)\n",
    "ax.set_xlabel('Country', size=14)\n",
    "ax.set_ylabel('Number of medals', size=14)\n",
    "ax.legend(loc='upper right');"
   ]
  },
  {
   "cell_type": "code",
   "execution_count": null,
   "metadata": {
    "collapsed": false
   },
   "outputs": [],
   "source": [
    "zip(np.arange(10), gold, silver)"
   ]
  },
  {
   "cell_type": "code",
   "execution_count": null,
   "metadata": {
    "collapsed": false,
    "scrolled": true
   },
   "outputs": [],
   "source": [
    "fig, ax = plt.subplots(figsize=(10,5.5))\n",
    "ax.bar(np.arange(10), gold, color=\"#FFDF00\", width=0.4, label='Gold')\n",
    "ax.bar(np.arange(10)+0.4, silver, color=\"#C0C0C0\", width=0.4, label='Silver')\n",
    "\n",
    "ax.set_xticks(np.arange(0.4,10.4,1))\n",
    "ax.set_xticklabels(countries);\n",
    "\n",
    "for x,g,s in zip(np.arange(10), gold, silver):\n",
    "    ax.text(x+0.1, g+0.5, g) # annotating the golds\n",
    "    ax.text(x+0.5, s+0.5, s) # annotating the silvers\n",
    "\n",
    "ax.set_title('Gold and Silver Medals at Rio', size=16)\n",
    "ax.set_xlabel('Country', size=14)\n",
    "ax.set_ylabel('Number of medals', size=14)\n",
    "ax.legend(loc='upper right');"
   ]
  },
  {
   "cell_type": "markdown",
   "metadata": {},
   "source": [
    "#### Go to exercise!"
   ]
  },
  {
   "cell_type": "markdown",
   "metadata": {},
   "source": [
    "## Histograms"
   ]
  },
  {
   "cell_type": "code",
   "execution_count": null,
   "metadata": {
    "collapsed": false
   },
   "outputs": [],
   "source": [
    "iqs = np.random.normal(loc=100, scale=10, size=300)"
   ]
  },
  {
   "cell_type": "code",
   "execution_count": null,
   "metadata": {
    "collapsed": false,
    "scrolled": false
   },
   "outputs": [],
   "source": [
    "fig, ax = plt.subplots(nrows=1, ncols=2, figsize=(12,4))\n",
    "\n",
    "ax[0].hist(iqs, bins=18)\n",
    "ax[0].set_title('Frequency histogram')\n",
    "\n",
    "ax[1].hist(iqs, bins=18, normed=True, )\n",
    "ax[1].set_title('Density (normed) histogram');"
   ]
  },
  {
   "cell_type": "markdown",
   "metadata": {},
   "source": [
    "#### Go to exercise!"
   ]
  },
  {
   "cell_type": "markdown",
   "metadata": {},
   "source": [
    "## Scatter plots"
   ]
  },
  {
   "cell_type": "code",
   "execution_count": null,
   "metadata": {
    "collapsed": false
   },
   "outputs": [],
   "source": [
    "fig, ax = plt.subplots()\n",
    "ax.scatter(gold, silver, marker='o')\n",
    "\n",
    "ax.set_title('Gold vs. Silver Medals at Rio', size=16)\n",
    "ax.set_xlabel('Gold medals', size=14)\n",
    "ax.set_ylabel('Silver medals', size=14);"
   ]
  },
  {
   "cell_type": "code",
   "execution_count": null,
   "metadata": {
    "collapsed": false
   },
   "outputs": [],
   "source": [
    "fig, ax = plt.subplots()\n",
    "ax.scatter(gold, silver, marker='o', color='blue', label='Gold vs Silver')\n",
    "ax.scatter(gold, bronze, marker='D', color='red', label='Gold vs Bronze')\n",
    "\n",
    "ax.set_title('Gold vs. Silver and Bronze Medals at Rio', size=16)\n",
    "ax.set_xlabel('Gold medals', size=14)\n",
    "ax.set_ylabel('Silver and bronze medals', size=14)\n",
    "ax.legend(loc='upper left');"
   ]
  },
  {
   "cell_type": "code",
   "execution_count": null,
   "metadata": {
    "collapsed": true
   },
   "outputs": [],
   "source": []
  },
  {
   "cell_type": "code",
   "execution_count": null,
   "metadata": {
    "collapsed": true
   },
   "outputs": [],
   "source": []
  }
 ],
 "metadata": {
  "kernelspec": {
   "display_name": "Python 2",
   "language": "python",
   "name": "python2"
  },
  "language_info": {
   "codemirror_mode": {
    "name": "ipython",
    "version": 2
   },
   "file_extension": ".py",
   "mimetype": "text/x-python",
   "name": "python",
   "nbconvert_exporter": "python",
   "pygments_lexer": "ipython2",
   "version": "2.7.11"
  }
 },
 "nbformat": 4,
 "nbformat_minor": 0
}
