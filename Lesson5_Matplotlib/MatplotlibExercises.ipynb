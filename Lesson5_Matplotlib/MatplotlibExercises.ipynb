{
 "cells": [
  {
   "cell_type": "markdown",
   "metadata": {},
   "source": [
    "# Matplotlib Exercises"
   ]
  },
  {
   "cell_type": "code",
   "execution_count": 1,
   "metadata": {
    "collapsed": true
   },
   "outputs": [],
   "source": [
    "%matplotlib inline\n",
    "import matplotlib.pyplot as plt\n",
    "import numpy as np"
   ]
  },
  {
   "cell_type": "markdown",
   "metadata": {},
   "source": [
    "#### 1. Reproduce the following figure\n",
    "<img src=\"images/exercise_1.png\">"
   ]
  },
  {
   "cell_type": "code",
   "execution_count": 3,
   "metadata": {
    "collapsed": false,
    "scrolled": true
   },
   "outputs": [
    {
     "data": {
      "image/png": "[encoded data removed]",
      "text/plain": [
       "<matplotlib.figure.Figure at 0x75e6c88>"
      ]
     },
     "metadata": {},
     "output_type": "display_data"
    }
   ],
   "source": [
    "# Hint: use the scatter method\n",
    "fig, ax = plt.subplots()\n",
    "ax.scatter([0,1,2,3],[4,3,2,5])\n",
    "ax.set_title('Simple scatter plot')\n",
    "ax.set_xlabel('X-values')\n",
    "ax.set_ylabel('Y-values');"
   ]
  },
  {
   "cell_type": "markdown",
   "metadata": {},
   "source": [
    "#### 2. Reproduce the following figure\n",
    "\n",
    "<img src=\"images/exercise_1-1.png\">\n",
    "\n",
    "#### Here's the data and some code to get you started."
   ]
  },
  {
   "cell_type": "code",
   "execution_count": 4,
   "metadata": {
    "collapsed": false
   },
   "outputs": [],
   "source": [
    "# Starter code\n",
    "x = np.linspace(0, 10, 100)\n",
    "y1, y2, y3 = np.cos(x), np.cos(x + 1), np.cos(x + 2)\n",
    "names = ['Signal 1', 'Signal 2', 'Signal 3']\n",
    "# Tip: When the grid in plt.subplots has nrows=1 or ncols=1 the resultin axes object is a 1-dimension numpy array"
   ]
  },
  {
   "cell_type": "markdown",
   "metadata": {},
   "source": [
    "#### 3. The law of large numbers\n",
    "In probability theory, the [law of large numbers](https://en.wikipedia.org/wiki/Law_of_large_numbers) is a theorem that describes the result of performing the same experiment a large number of times. According to the law, the average of the results obtained from a large number of trials should be close to the expected value, and will tend to become closer as more trials are performed.\n",
    "\n",
    "Here we visualize with a simulation that reproduces closely the graph presented in the wikipedia article."
   ]
  },
  {
   "cell_type": "code",
   "execution_count": 26,
   "metadata": {
    "collapsed": false
   },
   "outputs": [
    {
     "data": {
      "text/plain": [
       "3.2000000000000002"
      ]
     },
     "execution_count": 26,
     "metadata": {},
     "output_type": "execute_result"
    }
   ],
   "source": [
    "np.random.randint(1,7,size=5).mean()"
   ]
  },
  {
   "cell_type": "code",
   "execution_count": 31,
   "metadata": {
    "collapsed": false
   },
   "outputs": [
    {
     "name": "stdout",
     "output_type": "stream",
     "text": [
      "index: 0, element: fist\n",
      "index: 1, element: second\n",
      "index: 2, element: 3rd\n"
     ]
    }
   ],
   "source": [
    "for i, x in enumerate(['fist','second','3rd']):\n",
    "    print \"index: {}, element: {}\".format(i, x)"
   ]
  },
  {
   "cell_type": "code",
   "execution_count": 30,
   "metadata": {
    "collapsed": false
   },
   "outputs": [
    {
     "data": {
      "image/png": "[encoded data removed]",
      "text/plain": [
       "<matplotlib.figure.Figure at 0x4432400>"
      ]
     },
     "metadata": {},
     "output_type": "display_data"
    }
   ],
   "source": [
    "# Create a numpy array (number_of_throws) of integers from 1 to 600, hint: use arange\n",
    "number_of_throws = np.arange(1,1001)\n",
    "\n",
    "# For each integer in number_of_throws: simulate throwing a 6-sided dice and then take the mean of the values observed\n",
    "# Save the means in a numpy array called means, \n",
    "# hint: initialize means with np.zeros(600)\n",
    "# hint: the enumerate() function might be useful\n",
    "\n",
    "means = np.zeros(1000)\n",
    "for i, n in enumerate(number_of_throws):\n",
    "    means[i] = np.random.randint(1,7,size=n).mean()\n",
    "    \n",
    "fig, ax = plt.subplots()\n",
    "ax.plot(number_of_throws, means, lw=1.25, color='red', label=\"Mean of simulation\")\n",
    "ax.axhline(y=3.5, lw=3, alpha=0.75, label=\"Theoretical mean\")\n",
    "\n",
    "ax.set_title(\"Example of the law of large numbers\")\n",
    "ax.set_xlabel(\"Number of throws\")\n",
    "ax.set_ylabel(\"Means\")\n",
    "ax.set_ylim(1,6)\n",
    "ax.legend()\n",
    "ax.grid();"
   ]
  },
  {
   "cell_type": "markdown",
   "metadata": {},
   "source": [
    "#### 4. Using the following data produce a bar plot that shows the counts of the three kinds of medals for each country"
   ]
  },
  {
   "cell_type": "code",
   "execution_count": 37,
   "metadata": {
    "collapsed": false
   },
   "outputs": [
    {
     "data": {
      "text/plain": [
       "array([0, 1, 2, 3, 4, 5, 6, 7, 8, 9])"
      ]
     },
     "execution_count": 37,
     "metadata": {},
     "output_type": "execute_result"
    }
   ],
   "source": [
    "np.arange(10)"
   ]
  },
  {
   "cell_type": "code",
   "execution_count": 42,
   "metadata": {
    "collapsed": false
   },
   "outputs": [
    {
     "data": {
      "image/png": "[encoded data removed]",
      "text/plain": [
       "<matplotlib.figure.Figure at 0x8b780f0>"
      ]
     },
     "metadata": {},
     "output_type": "display_data"
    }
   ],
   "source": [
    "# Top 10 medal-winning countries in the Rio Olympics\n",
    "countries = ['USA','GBR','CHN','RUS','GER','JPN','FRA','KOR','ITA','AUS']\n",
    "gold = [46,27,26,19,17,12,10,9,8,8]\n",
    "silver = [37,23,18,18,10,8,18,3,12,11]\n",
    "bronze = [38,17,26,19,15,21,14,9,8,10]\n",
    "\n",
    "# Hint: Use the following colors: (gold, #FFDF00), (silver, #C0C0C0), (bronze, #CD7F32)\n",
    "# Your code here\n",
    "fig, ax = plt.subplots(figsize=(15,5.5))\n",
    "x_initial_positions = np.arange(len(countries))\n",
    "ax.bar(x_initial_positions, gold, color=\"#FFDF00\", width=0.25, label='Gold')\n",
    "ax.bar(x_initial_positions+0.25, silver, color=\"#C0C0C0\", width=0.25, label='Silver')\n",
    "ax.bar(x_initial_positions+0.5, bronze, color=\"#CD7F32\", width=0.25, label='Bronze')\n",
    "\n",
    "ax.set_xticks(np.arange(0.4,10.4,1))\n",
    "ax.set_xticklabels(countries)\n",
    "\n",
    "ax.set_title('Medals at Rio', size=16)\n",
    "ax.set_xlabel('Country', size=14)\n",
    "ax.set_ylabel('Number of medals', size=14)\n",
    "ax.legend(loc='upper right');"
   ]
  },
  {
   "cell_type": "markdown",
   "metadata": {},
   "source": [
    "#### 5. Simulate tossing a fair coin 20 times, do the same simulation 1,000 times. Count the number of \"heads\" for each simulation (save them in an array ``counts``). Visualize the distribution of ``counts`` using the appropiate plot."
   ]
  },
  {
   "cell_type": "code",
   "execution_count": 67,
   "metadata": {
    "collapsed": false
   },
   "outputs": [
    {
     "data": {
      "text/plain": [
       "(1000L,)"
      ]
     },
     "execution_count": 67,
     "metadata": {},
     "output_type": "execute_result"
    }
   ],
   "source": [
    "# heads = 1\n",
    "coin_matrix = np.random.randint(0,2,size=(20,1000))\n",
    "counts = coin_matrix.sum(axis = 0)\n"
   ]
  },
  {
   "cell_type": "code",
   "execution_count": 68,
   "metadata": {
    "collapsed": false
   },
   "outputs": [
    {
     "data": {
      "text/plain": [
       "array([  0,   0,   0,   3,   5,  14,  38,  72, 136, 168, 169, 135, 122,\n",
       "        74,  41,  18,   3,   2], dtype=int64)"
      ]
     },
     "execution_count": 68,
     "metadata": {},
     "output_type": "execute_result"
    }
   ],
   "source": [
    "observed_times = np.bincount(counts)\n",
    "observed_times"
   ]
  },
  {
   "cell_type": "code",
   "execution_count": 71,
   "metadata": {
    "collapsed": false
   },
   "outputs": [
    {
     "name": "stdout",
     "output_type": "stream",
     "text": [
      "we observed 0 heads 0 times\n",
      "we observed 1 heads 0 times\n",
      "we observed 2 heads 0 times\n",
      "we observed 3 heads 3 times\n",
      "we observed 4 heads 5 times\n",
      "we observed 5 heads 14 times\n",
      "we observed 6 heads 38 times\n",
      "we observed 7 heads 72 times\n",
      "we observed 8 heads 136 times\n",
      "we observed 9 heads 168 times\n",
      "we observed 10 heads 169 times\n",
      "we observed 11 heads 135 times\n",
      "we observed 12 heads 122 times\n",
      "we observed 13 heads 74 times\n",
      "we observed 14 heads 41 times\n",
      "we observed 15 heads 18 times\n",
      "we observed 16 heads 3 times\n",
      "we observed 17 heads 2 times\n"
     ]
    }
   ],
   "source": [
    "for i, value in enumerate(observed_times):\n",
    "    print \"we observed {} heads {} times\".format(i, value)"
   ]
  },
  {
   "cell_type": "code",
   "execution_count": 86,
   "metadata": {
    "collapsed": false
   },
   "outputs": [
    {
     "data": {
      "image/png": "[encoded data removed]",
      "text/plain": [
       "<matplotlib.figure.Figure at 0x8511898>"
      ]
     },
     "metadata": {},
     "output_type": "display_data"
    }
   ],
   "source": [
    "fig, ax = plt.subplots()\n",
    "\n",
    "ax.bar(np.arange(18),observed_times)\n",
    "ax.set_xticks(np.arange(18)+0.5)\n",
    "ax.set_xticklabels(np.arange(18));"
   ]
  },
  {
   "cell_type": "markdown",
   "metadata": {},
   "source": [
    "#### 6. Using the following array, produce a grid of 9 histograms showing how they change depending on the number of bins, for bins use the integers from 10 to 18."
   ]
  },
  {
   "cell_type": "code",
   "execution_count": null,
   "metadata": {
    "collapsed": true
   },
   "outputs": [],
   "source": [
    "# IQ's scores from 125 people\n",
    "iqs = np.random.normal(loc=100, scale=10, size=125)"
   ]
  },
  {
   "cell_type": "code",
   "execution_count": null,
   "metadata": {
    "collapsed": false
   },
   "outputs": [],
   "source": []
  },
  {
   "cell_type": "code",
   "execution_count": null,
   "metadata": {
    "collapsed": true
   },
   "outputs": [],
   "source": []
  }
 ],
 "metadata": {
  "kernelspec": {
   "display_name": "Python 2",
   "language": "python",
   "name": "python2"
  },
  "language_info": {
   "codemirror_mode": {
    "name": "ipython",
    "version": 2
   },
   "file_extension": ".py",
   "mimetype": "text/x-python",
   "name": "python",
   "nbconvert_exporter": "python",
   "pygments_lexer": "ipython2",
   "version": "2.7.11"
  }
 },
 "nbformat": 4,
 "nbformat_minor": 0
}
