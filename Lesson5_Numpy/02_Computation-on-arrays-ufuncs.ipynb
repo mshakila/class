{
 "cells": [
  {
   "cell_type": "markdown",
   "metadata": {},
   "source": [
    "# Computation on NumPy Arrays: Universal Functions"
   ]
  },
  {
   "cell_type": "code",
   "execution_count": 2,
   "metadata": {
    "collapsed": true
   },
   "outputs": [],
   "source": [
    "import numpy as np"
   ]
  },
  {
   "cell_type": "code",
   "execution_count": 5,
   "metadata": {
    "collapsed": false
   },
   "outputs": [
    {
     "name": "stdout",
     "output_type": "stream",
     "text": [
      "[0 1 2 3 4]\n",
      "[1 2 3 4 5]\n"
     ]
    }
   ],
   "source": [
    "x = np.arange(5)\n",
    "y = np.arange(1, 6)\n",
    "print x\n",
    "print y"
   ]
  },
  {
   "cell_type": "code",
   "execution_count": 10,
   "metadata": {
    "collapsed": false,
    "scrolled": true
   },
   "outputs": [
    {
     "name": "stdout",
     "output_type": "stream",
     "text": [
      "[1 3 5 7 9]\n",
      "[-1 -1 -1 -1 -1]\n",
      "[ 0  2  6 12 20]\n",
      "[0 0 0 0 0]\n"
     ]
    }
   ],
   "source": [
    "print x + y\n",
    "print x - y\n",
    "print x*y\n",
    "print x/y"
   ]
  },
  {
   "cell_type": "code",
   "execution_count": 7,
   "metadata": {
    "collapsed": false
   },
   "outputs": [
    {
     "data": {
      "text/plain": [
       "array([[0, 1, 2],\n",
       "       [3, 4, 5],\n",
       "       [6, 7, 8]])"
      ]
     },
     "execution_count": 7,
     "metadata": {},
     "output_type": "execute_result"
    }
   ],
   "source": [
    "z = np.arange(9).reshape((3, 3))\n",
    "z"
   ]
  },
  {
   "cell_type": "code",
   "execution_count": 8,
   "metadata": {
    "collapsed": false
   },
   "outputs": [
    {
     "data": {
      "text/plain": [
       "array([[  1,   2,   4],\n",
       "       [  8,  16,  32],\n",
       "       [ 64, 128, 256]])"
      ]
     },
     "execution_count": 8,
     "metadata": {},
     "output_type": "execute_result"
    }
   ],
   "source": [
    "2 ** z"
   ]
  },
  {
   "cell_type": "code",
   "execution_count": 9,
   "metadata": {
    "collapsed": false
   },
   "outputs": [
    {
     "data": {
      "text/plain": [
       "array([[ 0,  1,  4],\n",
       "       [ 9, 16, 25],\n",
       "       [36, 49, 64]])"
      ]
     },
     "execution_count": 9,
     "metadata": {},
     "output_type": "execute_result"
    }
   ],
   "source": [
    "z ** 2"
   ]
  },
  {
   "cell_type": "code",
   "execution_count": 11,
   "metadata": {
    "collapsed": false
   },
   "outputs": [
    {
     "data": {
      "text/plain": [
       "[6, 7, 8, 9, 10]"
      ]
     },
     "execution_count": 11,
     "metadata": {},
     "output_type": "execute_result"
    }
   ],
   "source": [
    "x2 = [1,2,3,4,5]\n",
    "[x + 5 for x in x2]"
   ]
  },
  {
   "cell_type": "code",
   "execution_count": 13,
   "metadata": {
    "collapsed": false
   },
   "outputs": [
    {
     "name": "stdout",
     "output_type": "stream",
     "text": [
      "[0 1 2 3]\n",
      "x     = [0 1 2 3]\n",
      "x + 5 = [5 6 7 8]\n",
      "x - 5 = [-5 -4 -3 -2]\n",
      "x * 2 = [0 2 4 6]\n",
      "x / 2 = [ 0.   0.5  1.   1.5]\n"
     ]
    }
   ],
   "source": [
    "x = np.arange(4)\n",
    "print x\n",
    "print \"x     =\", x\n",
    "print \"x + 5 =\", x + 5\n",
    "print \"x - 5 =\", x - 5\n",
    "print \"x * 2 =\", x * 2\n",
    "print \"x / 2 =\", x / 2.0"
   ]
  },
  {
   "cell_type": "code",
   "execution_count": 14,
   "metadata": {
    "collapsed": false
   },
   "outputs": [
    {
     "name": "stdout",
     "output_type": "stream",
     "text": [
      "-x     =  [ 0 -1 -2 -3]\n",
      "x ** 2 =  [0 1 4 9]\n",
      "x % 2  =  [0 1 0 1]\n"
     ]
    }
   ],
   "source": [
    "print \"-x     = \", -x\n",
    "print \"x ** 2 = \", x ** 2\n",
    "print \"x % 2  = \", x % 2"
   ]
  },
  {
   "cell_type": "code",
   "execution_count": 15,
   "metadata": {
    "collapsed": false
   },
   "outputs": [
    {
     "data": {
      "text/plain": [
       "array([-1.  , -2.25, -4.  , -6.25])"
      ]
     },
     "execution_count": 15,
     "metadata": {},
     "output_type": "execute_result"
    }
   ],
   "source": [
    "-((0.5*x + 1) ** 2)"
   ]
  },
  {
   "cell_type": "markdown",
   "metadata": {},
   "source": [
    "## Universal Functions"
   ]
  },
  {
   "cell_type": "code",
   "execution_count": 17,
   "metadata": {
    "collapsed": false
   },
   "outputs": [],
   "source": [
    "x = np.array([-2, -1, 0, 1, 2])"
   ]
  },
  {
   "cell_type": "code",
   "execution_count": 19,
   "metadata": {
    "collapsed": false
   },
   "outputs": [
    {
     "data": {
      "text/plain": [
       "array([2, 1, 0, 1, 2])"
      ]
     },
     "execution_count": 19,
     "metadata": {},
     "output_type": "execute_result"
    }
   ],
   "source": [
    "np.abs(x)"
   ]
  },
  {
   "cell_type": "code",
   "execution_count": 22,
   "metadata": {
    "collapsed": false
   },
   "outputs": [],
   "source": [
    "theta = np.linspace(0, np.pi, 6)"
   ]
  },
  {
   "cell_type": "code",
   "execution_count": 23,
   "metadata": {
    "collapsed": false
   },
   "outputs": [
    {
     "name": "stdout",
     "output_type": "stream",
     "text": [
      "theta      =  [ 0.          0.62831853  1.25663706  1.88495559  2.51327412  3.14159265]\n",
      "sin(theta) =  [  0.00000000e+00   5.87785252e-01   9.51056516e-01   9.51056516e-01\n",
      "   5.87785252e-01   1.22464680e-16]\n",
      "cos(theta) =  [ 1.          0.80901699  0.30901699 -0.30901699 -0.80901699 -1.        ]\n",
      "tan(theta) =  [  0.00000000e+00   7.26542528e-01   3.07768354e+00  -3.07768354e+00\n",
      "  -7.26542528e-01  -1.22464680e-16]\n"
     ]
    }
   ],
   "source": [
    "print \"theta      = \", theta\n",
    "print \"sin(theta) = \", np.sin(theta)\n",
    "print \"cos(theta) = \", np.cos(theta)\n",
    "print \"tan(theta) = \", np.tan(theta)"
   ]
  },
  {
   "cell_type": "code",
   "execution_count": 27,
   "metadata": {
    "collapsed": false
   },
   "outputs": [
    {
     "name": "stdout",
     "output_type": "stream",
     "text": [
      "x     = [ 1.  2.  3.  4.  5.]\n",
      "e^x   = [   2.71828183    7.3890561    20.08553692   54.59815003  148.4131591 ]\n",
      "2^x   = [  2.   4.   8.  16.  32.]\n",
      "3^x   = [   3.    9.   27.   81.  243.]\n",
      "x^3   = [   1.    8.   27.   64.  125.]\n"
     ]
    }
   ],
   "source": [
    "x = np.linspace(1,5,5)\n",
    "print \"x     =\", x \n",
    "print \"e^x   =\", np.exp(x) \n",
    "print \"2^x   =\", np.exp2(x)\n",
    "print \"3^x   =\", np.power(3, x)\n",
    "print \"x^3   =\", np.power(x, 3)"
   ]
  },
  {
   "cell_type": "code",
   "execution_count": 28,
   "metadata": {
    "collapsed": false
   },
   "outputs": [
    {
     "name": "stdout",
     "output_type": "stream",
     "text": [
      "x        = [ 1.  2.  3.  4.  5.]\n",
      "ln(x)    = [ 0.          0.69314718  1.09861229  1.38629436  1.60943791]\n",
      "log2(x)  = [ 0.          1.          1.5849625   2.          2.32192809]\n",
      "log10(x) = [ 0.          0.30103     0.47712125  0.60205999  0.69897   ]\n"
     ]
    }
   ],
   "source": [
    "print \"x        =\", x\n",
    "print \"ln(x)    =\", np.log(x)\n",
    "print \"log2(x)  =\", np.log2(x)\n",
    "print \"log10(x) =\", np.log10(x)"
   ]
  },
  {
   "cell_type": "markdown",
   "metadata": {},
   "source": [
    "Available ufuncs: https://docs.scipy.org/doc/numpy/reference/ufuncs.html#math-operations"
   ]
  }
 ],
 "metadata": {
  "kernelspec": {
   "display_name": "Python 2",
   "language": "python",
   "name": "python2"
  },
  "language_info": {
   "codemirror_mode": {
    "name": "ipython",
    "version": 2
   },
   "file_extension": ".py",
   "mimetype": "text/x-python",
   "name": "python",
   "nbconvert_exporter": "python",
   "pygments_lexer": "ipython2",
   "version": "2.7.11"
  }
 },
 "nbformat": 4,
 "nbformat_minor": 0
}
