{
 "cells": [
  {
   "cell_type": "markdown",
   "metadata": {},
   "source": [
    "# Statistics with Python\n",
    "## Why Python for statistics?\n",
    "R is a language dedicated to statistics. Python is a general-purpose language with statistics modules. R has\n",
    "more statistical analysis features than Python, and specialized syntaxes. However, when it comes to building\n",
    "complex analysis pipelines that mix statistics with e.g. image analysis, text mining, or control of a physical\n",
    "experiment, the richness of Python is an invaluable asset."
   ]
  },
  {
   "cell_type": "code",
   "execution_count": 1,
   "metadata": {
    "collapsed": true
   },
   "outputs": [],
   "source": [
    "%matplotlib inline\n",
    "import pandas as pd\n",
    "import numpy as np\n",
    "import matplotlib.pyplot as plt\n",
    "import seaborn as sns\n",
    "from scipy import stats\n",
    "sns.set_style('whitegrid')"
   ]
  },
  {
   "cell_type": "markdown",
   "metadata": {},
   "source": [
    "## Descriptive Statistics"
   ]
  },
  {
   "cell_type": "code",
   "execution_count": 2,
   "metadata": {
    "collapsed": false
   },
   "outputs": [],
   "source": [
    "path_to_diabetes = '..\\\\datasets\\\\diabetes.csv'\n",
    "diabetes = pd.DataFrame.from_csv(path=path_to_diabetes, index_col=None)"
   ]
  },
  {
   "cell_type": "markdown",
   "metadata": {},
   "source": [
    "#### Data set information:\n",
    "from http://biostat.mc.vanderbilt.edu/wiki/pub/Main/DataSets/Cdiabetes.html\n",
    "<table border=\"\">\n",
    "<tbody><tr><td>Name</td><td>Labels</td><td>Units</td><td>Levels</td><td>Storage</td><td>NAs</td></tr>\n",
    "<tr><td>id</td><td>Subject ID</td><td></td><td><div align=\"right\"></div></td><td>double</td><td><div align=\"right\">  0</div></td></tr>\n",
    "<tr><td>chol</td><td>Total Cholesterol</td><td></td><td><div align=\"right\"></div></td><td>double</td><td><div align=\"right\">  1</div></td></tr>\n",
    "<tr><td>stab.glu</td><td>Stabilized Glucose</td><td></td><td><div align=\"right\"></div></td><td>double</td><td><div align=\"right\">  0</div></td></tr>\n",
    "<tr><td>hdl</td><td>High Density Lipoprotein</td><td></td><td><div align=\"right\"></div></td><td>double</td><td><div align=\"right\">  1</div></td></tr>\n",
    "<tr><td>ratio</td><td>Cholesterol/HDL Ratio</td><td></td><td><div align=\"right\"></div></td><td>double</td><td><div align=\"right\">  1</div></td></tr>\n",
    "<tr><td>glyhb</td><td>Glycosolated Hemoglobin</td><td></td><td><div align=\"right\"></div></td><td>double</td><td><div align=\"right\"> 13</div></td></tr>\n",
    "<tr><td>location</td><td></td><td></td><td><a href=\"#location\"><div align=\"right\">2</div></a></td><td>integer</td><td><div align=\"right\">  0</div></td></tr>\n",
    "<tr><td>age</td><td></td><td>years</td><td><div align=\"right\"></div></td><td>double</td><td><div align=\"right\">  0</div></td></tr>\n",
    "<tr><td>gender</td><td></td><td></td><td><a href=\"#gender\"><div align=\"right\">2</div></a></td><td>integer</td><td><div align=\"right\">  0</div></td></tr>\n",
    "<tr><td>height</td><td></td><td>inches</td><td><div align=\"right\"></div></td><td>double</td><td><div align=\"right\">  5</div></td></tr>\n",
    "<tr><td>weight</td><td></td><td>pounds</td><td><div align=\"right\"></div></td><td>double</td><td><div align=\"right\">  1</div></td></tr>\n",
    "<tr><td>frame</td><td></td><td></td><td><a href=\"#frame\"><div align=\"right\">3</div></a></td><td>integer</td><td><div align=\"right\"> 12</div></td></tr>\n",
    "<tr><td>bp.1s</td><td>First Systolic Blood Pressure</td><td></td><td><div align=\"right\"></div></td><td>double</td><td><div align=\"right\">  5</div></td></tr>\n",
    "<tr><td>bp.1d</td><td>First Diastolic Blood Pressure</td><td></td><td><div align=\"right\"></div></td><td>double</td><td><div align=\"right\">  5</div>\n",
    "<tr><td>waist</td><td></td><td>inches</td><td><div align=\"right\"></div></td><td>double</td><td><div align=\"right\">  2</div></td></tr>\n",
    "<tr><td>hip</td><td></td><td>inches</td><td><div align=\"right\"></div></td><td>double</td><td><div align=\"right\">  2</div></td></tr>\n",
    "<tr><td>time.ppn</td><td>Postprandial Time when Labs were Drawn</td><td>minutes</td><td><div align=\"right\"></div></td><td>double</td><td><div align=\"right\">  3</div></td></tr>\n",
    "</tbody></table>"
   ]
  },
  {
   "cell_type": "code",
   "execution_count": 3,
   "metadata": {
    "collapsed": true
   },
   "outputs": [],
   "source": [
    "# Some data pre-processing\n",
    "for col in diabetes.columns:\n",
    "    if diabetes[col].dtype != 'object':\n",
    "        diabetes[col].fillna(diabetes[col].median(), inplace=True)\n",
    "\n",
    "diabetes['frame'].fillna(value='medium', inplace=True)\n",
    "diabetes['height'] = 2.54*diabetes['height'] # to cm\n",
    "diabetes['waist'] = 2.54*diabetes['waist'] # to cm\n",
    "diabetes['hip'] = 2.54*diabetes['hip'] # to cm\n",
    "diabetes['weight'] = 0.454*diabetes['weight'] # to kg"
   ]
  },
  {
   "cell_type": "markdown",
   "metadata": {},
   "source": [
    "### Some context:\n",
    "\n",
    "* **Total cholesterol** (Cholesterol): a measure of the total amount of cholesterol in your blood, including low-density lipoprotein (LDL) cholesterol and high-density lipoprotein (HDL) cholesterol.\n",
    "* **HDL (good) cholesterol** (hdl): HDL helps remove cholesterol from your arteries.\n",
    "* **LDL (bad) cholesterol**: The main source of cholesterol buildup and blockage in the arteries.\n",
    "* **Glycosolated Hemoglobin** (glyhb): In patients with diabetes, higher amounts of glycated hemoglobin, indicating poorer control of blood glucose levels, have been associated with cardiovascular disease, nephropathy, neuropathy, and retinopathy."
   ]
  },
  {
   "cell_type": "markdown",
   "metadata": {},
   "source": [
    "<table width=\"600\" border=\"0\" cellspacing=\"3\" cellpadding=\"3\" summary=\"how your cholesterol numbers compare to the table below\">\n",
    "<thead>\n",
    "  <tr>\n",
    "    <th scope=\"col\" id=\"C1\" bgcolor=\"#006699\"><h3 style=\"color:#fff;\">Total Cholesterol Level</h3></th>\n",
    "    <th scope=\"col\" id=\"C2\" bgcolor=\"#006699\"><h3 style=\"color:#fff;\">Category</h3></th>\n",
    "  </tr>\n",
    "</thead>\n",
    "<tbody>\n",
    "  <tr>\n",
    "    <td id=\"C1 R1\" class=\"Optimal\">Less than 200mg/dL</td>\n",
    "    <td id=\"C2 R1\" class=\"Optimal\">Desirable</td>\n",
    "  </tr>\n",
    "  <tr>\n",
    "    <td id=\"C1 R2\" class=\"Borderline\">200-239 mg/dL</td>\n",
    "    <td id=\"C2 R2\" class=\"Borderline\">Borderline high</td>\n",
    "  </tr>\n",
    "\n",
    "  <tr>\n",
    "    <td id=\"C1 R3\" class=\"High\">240mg/dL and above</td>\n",
    "    <td id=\"C2 R3\" class=\"High\">High</td>\n",
    "  </tr>\n",
    "</tbody>\n",
    "  <tbody><tr>\n",
    "    <td>&nbsp;</td>\n",
    "    <td>&nbsp;</td>\n",
    "  </tr>\n",
    "</tbody><thead>\n",
    "  <tr>\n",
    "    <th scope=\"col\" bgcolor=\"#006699\" id=\"C3\"><h3 style=\"color:#fff;\">LDL (Bad) Cholesterol Level</h3></th>\n",
    "    <th scope=\"col\" bgcolor=\"#006699\" id=\"C4\"><h3 style=\"color:#fff;\">LDL Cholesterol Category</h3></th>\n",
    "  </tr>\n",
    "</thead>\n",
    "<tbody>\n",
    "  <tr>\n",
    "    <td id=\"C3 R4\" class=\"Optimal\">Less than 100mg/dL</td>\n",
    "    <td id=\"C4 R4\" class=\"Optimal\">Optimal</td>\n",
    "  </tr>\n",
    "  <tr>\n",
    "    <td id=\"C3 R5\" class=\"Nearoptimal\">100-129mg/dL</td>\n",
    "    <td id=\"C4 R5\" class=\"Nearoptimal\">Near optimal/above optimal</td>\n",
    "  </tr>\n",
    "  <tr>\n",
    "    <td id=\"C3 R6\" class=\"Borderline\">130-159 mg/dL</td>\n",
    "    <td id=\"C4 R6\" class=\"Borderline\">Borderline high</td>\n",
    "  </tr>\n",
    "  <tr>\n",
    "    <td id=\"C3 R7\" class=\"High\">160-189 mg/dL</td>\n",
    "    <td id=\"C4 R7\" class=\"High\">High</td>\n",
    "  </tr>\n",
    "  <tr>\n",
    "    <td id=\"C3 R8\" class=\"VeryHigh\">190 mg/dL and above</td>\n",
    "    <td id=\"C4 R8\" class=\"VeryHigh\">Very High</td>\n",
    "  </tr>\n",
    "</tbody>\n",
    "  <tbody><tr>\n",
    "    <td>&nbsp;</td>\n",
    "    <td>&nbsp;</td>\n",
    "  </tr>\n",
    "</tbody><thead>\n",
    "  <tr>\n",
    "    <th scope=\"col\" bgcolor=\"#006699\" id=\"C5\"><h3 style=\"color:#fff;\">HDL (Good) Cholesterol Level</h3></th>\n",
    "    <th scope=\"col\" bgcolor=\"#006699\" id=\"C6\"><h3 style=\"color:#fff;\">HDL Cholesterol Category</h3></th>\n",
    "  </tr>\n",
    "</thead>\n",
    "<tbody>\n",
    "  <tr>\n",
    "    <td id=\"C5 R9\" class=\"VeryHigh\">Less than 40 mg/dL</td>\n",
    "    <td id=\"C6 R9\" class=\"VeryHigh\">A major risk factor for heart disease</td>\n",
    "  </tr>\n",
    "  <tr>\n",
    "    <td id=\"C5 R10\" class=\"Nearoptimal\">40—59 mg/dL</td>\n",
    "    <td id=\"C6 R10\" class=\"Nearoptimal\">The higher, the better</td>\n",
    "  </tr>\n",
    "  <tr>\n",
    "    <td id=\"C5 R11\" class=\"Optimal\">60 mg/dL and higher</td>\n",
    "    <td id=\"C6 R11\" class=\"Optimal\">Considered protective against heart disease</td>\n",
    "  </tr>\n",
    "</tbody>\n",
    "</table>"
   ]
  },
  {
   "cell_type": "markdown",
   "metadata": {},
   "source": [
    "** Simplifying assumption for this demonstration: Total Cholesterol = good cholesterol + bad cholesterol **"
   ]
  },
  {
   "cell_type": "code",
   "execution_count": 4,
   "metadata": {
    "collapsed": false
   },
   "outputs": [],
   "source": [
    "diabetes.rename(columns={'hdl':'good_chol', 'Cholesterol':'total_chol'}, inplace=True)\n",
    "diabetes['bad_chol'] = diabetes['total_chol'] - diabetes['good_chol']"
   ]
  },
  {
   "cell_type": "markdown",
   "metadata": {},
   "source": [
    "### Univariate Analysis"
   ]
  },
  {
   "cell_type": "markdown",
   "metadata": {},
   "source": [
    "#### Describe the distributions of total, good and bad cholesterol, among diabetic patients. Compare them with the levels of the table"
   ]
  },
  {
   "cell_type": "code",
   "execution_count": 5,
   "metadata": {
    "collapsed": false
   },
   "outputs": [
    {
     "data": {
      "text/plain": [
       "(403, 17)"
      ]
     },
     "execution_count": 5,
     "metadata": {},
     "output_type": "execute_result"
    }
   ],
   "source": [
    "diabetes.shape"
   ]
  },
  {
   "cell_type": "code",
   "execution_count": 6,
   "metadata": {
    "collapsed": false
   },
   "outputs": [
    {
     "data": {
      "text/html": [
       "<div>\n",
       "<table border=\"1\" class=\"dataframe\">\n",
       "  <thead>\n",
       "    <tr style=\"text-align: right;\">\n",
       "      <th></th>\n",
       "      <th>total_chol</th>\n",
       "      <th>good_chol</th>\n",
       "      <th>bad_chol</th>\n",
       "    </tr>\n",
       "  </thead>\n",
       "  <tbody>\n",
       "    <tr>\n",
       "      <th>count</th>\n",
       "      <td>403.000000</td>\n",
       "      <td>403.000000</td>\n",
       "      <td>403.000000</td>\n",
       "    </tr>\n",
       "    <tr>\n",
       "      <th>mean</th>\n",
       "      <td>207.836228</td>\n",
       "      <td>50.434243</td>\n",
       "      <td>157.401985</td>\n",
       "    </tr>\n",
       "    <tr>\n",
       "      <th>std</th>\n",
       "      <td>44.390656</td>\n",
       "      <td>17.242563</td>\n",
       "      <td>44.521415</td>\n",
       "    </tr>\n",
       "    <tr>\n",
       "      <th>min</th>\n",
       "      <td>78.000000</td>\n",
       "      <td>12.000000</td>\n",
       "      <td>57.000000</td>\n",
       "    </tr>\n",
       "    <tr>\n",
       "      <th>25%</th>\n",
       "      <td>179.000000</td>\n",
       "      <td>38.000000</td>\n",
       "      <td>127.000000</td>\n",
       "    </tr>\n",
       "    <tr>\n",
       "      <th>50%</th>\n",
       "      <td>204.000000</td>\n",
       "      <td>46.000000</td>\n",
       "      <td>152.000000</td>\n",
       "    </tr>\n",
       "    <tr>\n",
       "      <th>75%</th>\n",
       "      <td>230.000000</td>\n",
       "      <td>59.000000</td>\n",
       "      <td>180.000000</td>\n",
       "    </tr>\n",
       "    <tr>\n",
       "      <th>max</th>\n",
       "      <td>443.000000</td>\n",
       "      <td>120.000000</td>\n",
       "      <td>420.000000</td>\n",
       "    </tr>\n",
       "  </tbody>\n",
       "</table>\n",
       "</div>"
      ],
      "text/plain": [
       "       total_chol   good_chol    bad_chol\n",
       "count  403.000000  403.000000  403.000000\n",
       "mean   207.836228   50.434243  157.401985\n",
       "std     44.390656   17.242563   44.521415\n",
       "min     78.000000   12.000000   57.000000\n",
       "25%    179.000000   38.000000  127.000000\n",
       "50%    204.000000   46.000000  152.000000\n",
       "75%    230.000000   59.000000  180.000000\n",
       "max    443.000000  120.000000  420.000000"
      ]
     },
     "execution_count": 6,
     "metadata": {},
     "output_type": "execute_result"
    }
   ],
   "source": [
    "diabetes[['total_chol','good_chol','bad_chol']].describe()"
   ]
  },
  {
   "cell_type": "code",
   "execution_count": 7,
   "metadata": {
    "collapsed": false
   },
   "outputs": [
    {
     "data": {
      "image/png": "[encoded data removed]",
      "text/plain": [
       "<matplotlib.figure.Figure at 0xa48f2e8>"
      ]
     },
     "metadata": {},
     "output_type": "display_data"
    }
   ],
   "source": [
    "diabetes[['total_chol','good_chol','bad_chol']].hist(figsize=(15,5), layout=(1,3), bins=15);"
   ]
  },
  {
   "cell_type": "code",
   "execution_count": 8,
   "metadata": {
    "collapsed": false
   },
   "outputs": [
    {
     "data": {
      "text/plain": [
       "False    278\n",
       "True     125\n",
       "Name: good_chol, dtype: int64"
      ]
     },
     "execution_count": 8,
     "metadata": {},
     "output_type": "execute_result"
    }
   ],
   "source": [
    "(diabetes['good_chol'] <= 40).value_counts()"
   ]
  },
  {
   "cell_type": "code",
   "execution_count": 9,
   "metadata": {
    "collapsed": false
   },
   "outputs": [
    {
     "data": {
      "text/plain": [
       "False    278\n",
       "True     125\n",
       "Name: good_chol, dtype: int64"
      ]
     },
     "execution_count": 9,
     "metadata": {},
     "output_type": "execute_result"
    }
   ],
   "source": [
    "# A major risk factor for heart disease (good cholesterol levels < 40)\n",
    "(diabetes['good_chol'] <= 40).value_counts()"
   ]
  },
  {
   "cell_type": "markdown",
   "metadata": {},
   "source": [
    "**How many people have a \"Desirable\" level of total cholesterol?**"
   ]
  },
  {
   "cell_type": "code",
   "execution_count": 10,
   "metadata": {
    "collapsed": false
   },
   "outputs": [
    {
     "data": {
      "text/plain": [
       "184"
      ]
     },
     "execution_count": 10,
     "metadata": {},
     "output_type": "execute_result"
    }
   ],
   "source": [
    "(diabetes['total_chol'] < 200).sum()"
   ]
  },
  {
   "cell_type": "markdown",
   "metadata": {},
   "source": [
    "**How many people have a \"Very high\" level of bad cholesterol?**"
   ]
  },
  {
   "cell_type": "code",
   "execution_count": 11,
   "metadata": {
    "collapsed": false
   },
   "outputs": [
    {
     "data": {
      "text/plain": [
       "77"
      ]
     },
     "execution_count": 11,
     "metadata": {},
     "output_type": "execute_result"
    }
   ],
   "source": [
    "(diabetes['bad_chol'] > 190).sum()"
   ]
  },
  {
   "cell_type": "markdown",
   "metadata": {},
   "source": [
    "### Interpreting percentiles"
   ]
  },
  {
   "cell_type": "code",
   "execution_count": 12,
   "metadata": {
    "collapsed": false
   },
   "outputs": [
    {
     "data": {
      "text/html": [
       "<div>\n",
       "<table border=\"1\" class=\"dataframe\">\n",
       "  <thead>\n",
       "    <tr style=\"text-align: right;\">\n",
       "      <th></th>\n",
       "      <th>total_chol</th>\n",
       "      <th>good_chol</th>\n",
       "      <th>bad_chol</th>\n",
       "    </tr>\n",
       "  </thead>\n",
       "  <tbody>\n",
       "    <tr>\n",
       "      <th>0.05</th>\n",
       "      <td>145.0</td>\n",
       "      <td>30.0</td>\n",
       "      <td>97.0</td>\n",
       "    </tr>\n",
       "    <tr>\n",
       "      <th>0.10</th>\n",
       "      <td>158.0</td>\n",
       "      <td>33.0</td>\n",
       "      <td>106.0</td>\n",
       "    </tr>\n",
       "    <tr>\n",
       "      <th>0.15</th>\n",
       "      <td>165.0</td>\n",
       "      <td>35.0</td>\n",
       "      <td>116.0</td>\n",
       "    </tr>\n",
       "    <tr>\n",
       "      <th>0.20</th>\n",
       "      <td>173.0</td>\n",
       "      <td>36.0</td>\n",
       "      <td>121.0</td>\n",
       "    </tr>\n",
       "    <tr>\n",
       "      <th>0.25</th>\n",
       "      <td>179.0</td>\n",
       "      <td>38.0</td>\n",
       "      <td>127.0</td>\n",
       "    </tr>\n",
       "    <tr>\n",
       "      <th>0.30</th>\n",
       "      <td>183.0</td>\n",
       "      <td>40.0</td>\n",
       "      <td>133.0</td>\n",
       "    </tr>\n",
       "    <tr>\n",
       "      <th>0.35</th>\n",
       "      <td>190.0</td>\n",
       "      <td>42.0</td>\n",
       "      <td>138.0</td>\n",
       "    </tr>\n",
       "    <tr>\n",
       "      <th>0.40</th>\n",
       "      <td>194.0</td>\n",
       "      <td>44.0</td>\n",
       "      <td>142.0</td>\n",
       "    </tr>\n",
       "    <tr>\n",
       "      <th>0.45</th>\n",
       "      <td>199.0</td>\n",
       "      <td>45.0</td>\n",
       "      <td>147.0</td>\n",
       "    </tr>\n",
       "    <tr>\n",
       "      <th>0.50</th>\n",
       "      <td>204.0</td>\n",
       "      <td>46.0</td>\n",
       "      <td>152.0</td>\n",
       "    </tr>\n",
       "    <tr>\n",
       "      <th>0.55</th>\n",
       "      <td>208.1</td>\n",
       "      <td>48.0</td>\n",
       "      <td>158.0</td>\n",
       "    </tr>\n",
       "    <tr>\n",
       "      <th>0.60</th>\n",
       "      <td>214.2</td>\n",
       "      <td>51.0</td>\n",
       "      <td>163.0</td>\n",
       "    </tr>\n",
       "    <tr>\n",
       "      <th>0.65</th>\n",
       "      <td>218.0</td>\n",
       "      <td>54.0</td>\n",
       "      <td>169.0</td>\n",
       "    </tr>\n",
       "    <tr>\n",
       "      <th>0.70</th>\n",
       "      <td>224.0</td>\n",
       "      <td>57.0</td>\n",
       "      <td>174.4</td>\n",
       "    </tr>\n",
       "    <tr>\n",
       "      <th>0.75</th>\n",
       "      <td>230.0</td>\n",
       "      <td>59.0</td>\n",
       "      <td>180.0</td>\n",
       "    </tr>\n",
       "    <tr>\n",
       "      <th>0.80</th>\n",
       "      <td>237.6</td>\n",
       "      <td>62.6</td>\n",
       "      <td>187.6</td>\n",
       "    </tr>\n",
       "    <tr>\n",
       "      <th>0.85</th>\n",
       "      <td>248.7</td>\n",
       "      <td>66.7</td>\n",
       "      <td>201.0</td>\n",
       "    </tr>\n",
       "    <tr>\n",
       "      <th>0.90</th>\n",
       "      <td>264.6</td>\n",
       "      <td>72.8</td>\n",
       "      <td>217.0</td>\n",
       "    </tr>\n",
       "    <tr>\n",
       "      <th>0.95</th>\n",
       "      <td>291.7</td>\n",
       "      <td>84.9</td>\n",
       "      <td>235.9</td>\n",
       "    </tr>\n",
       "  </tbody>\n",
       "</table>\n",
       "</div>"
      ],
      "text/plain": [
       "      total_chol  good_chol  bad_chol\n",
       "0.05       145.0       30.0      97.0\n",
       "0.10       158.0       33.0     106.0\n",
       "0.15       165.0       35.0     116.0\n",
       "0.20       173.0       36.0     121.0\n",
       "0.25       179.0       38.0     127.0\n",
       "0.30       183.0       40.0     133.0\n",
       "0.35       190.0       42.0     138.0\n",
       "0.40       194.0       44.0     142.0\n",
       "0.45       199.0       45.0     147.0\n",
       "0.50       204.0       46.0     152.0\n",
       "0.55       208.1       48.0     158.0\n",
       "0.60       214.2       51.0     163.0\n",
       "0.65       218.0       54.0     169.0\n",
       "0.70       224.0       57.0     174.4\n",
       "0.75       230.0       59.0     180.0\n",
       "0.80       237.6       62.6     187.6\n",
       "0.85       248.7       66.7     201.0\n",
       "0.90       264.6       72.8     217.0\n",
       "0.95       291.7       84.9     235.9"
      ]
     },
     "execution_count": 12,
     "metadata": {},
     "output_type": "execute_result"
    }
   ],
   "source": [
    "diabetes[['total_chol','good_chol','bad_chol']].quantile(q=np.arange(0.05, 1, 0.05))"
   ]
  },
  {
   "cell_type": "markdown",
   "metadata": {},
   "source": [
    "### Bivariate Analysis"
   ]
  },
  {
   "cell_type": "markdown",
   "metadata": {},
   "source": [
    "#### What can we say about the levels of all kinds of cholesterol among genders?"
   ]
  },
  {
   "cell_type": "code",
   "execution_count": 13,
   "metadata": {
    "collapsed": false
   },
   "outputs": [
    {
     "data": {
      "text/plain": [
       "female    234\n",
       "male      169\n",
       "Name: gender, dtype: int64"
      ]
     },
     "execution_count": 13,
     "metadata": {},
     "output_type": "execute_result"
    }
   ],
   "source": [
    "diabetes['gender'].value_counts()"
   ]
  },
  {
   "cell_type": "code",
   "execution_count": 14,
   "metadata": {
    "collapsed": false
   },
   "outputs": [
    {
     "data": {
      "image/png": "[encoded data removed]",
      "text/plain": [
       "<matplotlib.figure.Figure at 0xa41f5f8>"
      ]
     },
     "metadata": {},
     "output_type": "display_data"
    }
   ],
   "source": [
    "diabetes['gender'].value_counts().plot(kind='bar');"
   ]
  },
  {
   "cell_type": "code",
   "execution_count": 15,
   "metadata": {
    "collapsed": true
   },
   "outputs": [],
   "source": [
    "chol_vars = ['total_chol','good_chol','bad_chol']"
   ]
  },
  {
   "cell_type": "code",
   "execution_count": 16,
   "metadata": {
    "collapsed": false
   },
   "outputs": [
    {
     "data": {
      "text/html": [
       "<div>\n",
       "<table border=\"1\" class=\"dataframe\">\n",
       "  <thead>\n",
       "    <tr>\n",
       "      <th></th>\n",
       "      <th colspan=\"3\" halign=\"left\">total_chol</th>\n",
       "      <th colspan=\"3\" halign=\"left\">good_chol</th>\n",
       "      <th colspan=\"3\" halign=\"left\">bad_chol</th>\n",
       "    </tr>\n",
       "    <tr>\n",
       "      <th></th>\n",
       "      <th>mean</th>\n",
       "      <th>std</th>\n",
       "      <th>size</th>\n",
       "      <th>mean</th>\n",
       "      <th>std</th>\n",
       "      <th>size</th>\n",
       "      <th>mean</th>\n",
       "      <th>std</th>\n",
       "      <th>size</th>\n",
       "    </tr>\n",
       "    <tr>\n",
       "      <th>gender</th>\n",
       "      <th></th>\n",
       "      <th></th>\n",
       "      <th></th>\n",
       "      <th></th>\n",
       "      <th></th>\n",
       "      <th></th>\n",
       "      <th></th>\n",
       "      <th></th>\n",
       "      <th></th>\n",
       "    </tr>\n",
       "  </thead>\n",
       "  <tbody>\n",
       "    <tr>\n",
       "      <th>female</th>\n",
       "      <td>208.435897</td>\n",
       "      <td>43.747105</td>\n",
       "      <td>234.0</td>\n",
       "      <td>52.111111</td>\n",
       "      <td>17.255106</td>\n",
       "      <td>234.0</td>\n",
       "      <td>156.324786</td>\n",
       "      <td>43.372492</td>\n",
       "      <td>234.0</td>\n",
       "    </tr>\n",
       "    <tr>\n",
       "      <th>male</th>\n",
       "      <td>207.005917</td>\n",
       "      <td>45.384272</td>\n",
       "      <td>169.0</td>\n",
       "      <td>48.112426</td>\n",
       "      <td>17.004002</td>\n",
       "      <td>169.0</td>\n",
       "      <td>158.893491</td>\n",
       "      <td>46.153605</td>\n",
       "      <td>169.0</td>\n",
       "    </tr>\n",
       "  </tbody>\n",
       "</table>\n",
       "</div>"
      ],
      "text/plain": [
       "        total_chol                    good_chol                      bad_chol  \\\n",
       "              mean        std   size       mean        std   size        mean   \n",
       "gender                                                                          \n",
       "female  208.435897  43.747105  234.0  52.111111  17.255106  234.0  156.324786   \n",
       "male    207.005917  45.384272  169.0  48.112426  17.004002  169.0  158.893491   \n",
       "\n",
       "                          \n",
       "              std   size  \n",
       "gender                    \n",
       "female  43.372492  234.0  \n",
       "male    46.153605  169.0  "
      ]
     },
     "execution_count": 16,
     "metadata": {},
     "output_type": "execute_result"
    }
   ],
   "source": [
    "diabetes.groupby('gender')[chol_vars].agg([np.mean,np.std,np.size])"
   ]
  },
  {
   "cell_type": "code",
   "execution_count": 17,
   "metadata": {
    "collapsed": false
   },
   "outputs": [
    {
     "data": {
      "image/png": "[encoded data removed]",
      "text/plain": [
       "<matplotlib.figure.Figure at 0xb2c94a8>"
      ]
     },
     "metadata": {},
     "output_type": "display_data"
    }
   ],
   "source": [
    "sns.boxplot(x='gender', y='total_chol', data=diabetes);"
   ]
  },
  {
   "cell_type": "code",
   "execution_count": 18,
   "metadata": {
    "collapsed": false
   },
   "outputs": [
    {
     "data": {
      "image/png": "[encoded data removed]",
      "text/plain": [
       "<matplotlib.figure.Figure at 0xb5280b8>"
      ]
     },
     "metadata": {},
     "output_type": "display_data"
    }
   ],
   "source": [
    "sns.boxplot(x='gender', y='good_chol', data=diabetes);"
   ]
  },
  {
   "cell_type": "code",
   "execution_count": 19,
   "metadata": {
    "collapsed": false
   },
   "outputs": [
    {
     "data": {
      "image/png": "[encoded data removed]",
      "text/plain": [
       "<matplotlib.figure.Figure at 0xab5f2b0>"
      ]
     },
     "metadata": {},
     "output_type": "display_data"
    }
   ],
   "source": [
    "sns.boxplot(x='gender', y='bad_chol', data=diabetes);"
   ]
  },
  {
   "cell_type": "code",
   "execution_count": 20,
   "metadata": {
    "collapsed": false
   },
   "outputs": [
    {
     "data": {
      "image/png": "[encoded data removed]",
      "text/plain": [
       "<matplotlib.figure.Figure at 0xb951780>"
      ]
     },
     "metadata": {},
     "output_type": "display_data"
    }
   ],
   "source": [
    "sns.factorplot(x='gender', y='bad_chol', data=diabetes, aspect=1.8);"
   ]
  },
  {
   "cell_type": "markdown",
   "metadata": {},
   "source": [
    "#### Find the proportion of people with \"Desirable\" levels of total cholesterol for each gender."
   ]
  },
  {
   "cell_type": "code",
   "execution_count": 21,
   "metadata": {
    "collapsed": false
   },
   "outputs": [
    {
     "data": {
      "text/html": [
       "<div>\n",
       "<table border=\"1\" class=\"dataframe\">\n",
       "  <thead>\n",
       "    <tr style=\"text-align: right;\">\n",
       "      <th>total_chol</th>\n",
       "      <th>False</th>\n",
       "      <th>True</th>\n",
       "    </tr>\n",
       "    <tr>\n",
       "      <th>gender</th>\n",
       "      <th></th>\n",
       "      <th></th>\n",
       "    </tr>\n",
       "  </thead>\n",
       "  <tbody>\n",
       "    <tr>\n",
       "      <th>female</th>\n",
       "      <td>129</td>\n",
       "      <td>105</td>\n",
       "    </tr>\n",
       "    <tr>\n",
       "      <th>male</th>\n",
       "      <td>90</td>\n",
       "      <td>79</td>\n",
       "    </tr>\n",
       "  </tbody>\n",
       "</table>\n",
       "</div>"
      ],
      "text/plain": [
       "total_chol  False  True \n",
       "gender                  \n",
       "female        129    105\n",
       "male           90     79"
      ]
     },
     "execution_count": 21,
     "metadata": {},
     "output_type": "execute_result"
    }
   ],
   "source": [
    "diabetes.groupby(['gender',diabetes['total_chol']<200]).size().unstack()"
   ]
  },
  {
   "cell_type": "code",
   "execution_count": 22,
   "metadata": {
    "collapsed": false
   },
   "outputs": [
    {
     "data": {
      "text/plain": [
       "0.44871794871794873"
      ]
     },
     "execution_count": 22,
     "metadata": {},
     "output_type": "execute_result"
    }
   ],
   "source": [
    "# Proportion for females\n",
    "105.0/(129+105)"
   ]
  },
  {
   "cell_type": "code",
   "execution_count": 23,
   "metadata": {
    "collapsed": false
   },
   "outputs": [
    {
     "data": {
      "text/plain": [
       "0.46745562130177515"
      ]
     },
     "execution_count": 23,
     "metadata": {},
     "output_type": "execute_result"
    }
   ],
   "source": [
    "# Proportion for males\n",
    "79.0/(79+90)"
   ]
  },
  {
   "cell_type": "markdown",
   "metadata": {},
   "source": [
    "### Correlation"
   ]
  },
  {
   "cell_type": "markdown",
   "metadata": {},
   "source": [
    "Correlation is a statistical measure that indicates the extent to which two or more variables fluctuate together. A positive correlation indicates the extent to which those variables increase or decrease in parallel; a negative correlation indicates the extent to which one variable increases as the other decreases."
   ]
  },
  {
   "cell_type": "markdown",
   "metadata": {},
   "source": [
    "### What is the relatioship between bad and good cholesterol? What about those variables and glyhb?"
   ]
  },
  {
   "cell_type": "code",
   "execution_count": 24,
   "metadata": {
    "collapsed": false
   },
   "outputs": [
    {
     "data": {
      "image/png": "[encoded data removed]",
      "text/plain": [
       "<matplotlib.figure.Figure at 0xbaf1240>"
      ]
     },
     "metadata": {},
     "output_type": "display_data"
    }
   ],
   "source": [
    "sns.lmplot(x='good_chol', y='bad_chol', hue='gender', data=diabetes);"
   ]
  },
  {
   "cell_type": "code",
   "execution_count": 25,
   "metadata": {
    "collapsed": false
   },
   "outputs": [
    {
     "data": {
      "image/png": "[encoded data removed]",
      "text/plain": [
       "<matplotlib.figure.Figure at 0x6f1af60>"
      ]
     },
     "metadata": {},
     "output_type": "display_data"
    }
   ],
   "source": [
    "sns.pairplot(diabetes[['good_chol','bad_chol','glyhb']]);"
   ]
  },
  {
   "cell_type": "code",
   "execution_count": 26,
   "metadata": {
    "collapsed": false
   },
   "outputs": [
    {
     "data": {
      "text/plain": [
       "Index([u'id', u'total_chol', u'stab.glu', u'good_chol', u'ratio', u'glyhb',\n",
       "       u'age', u'gender', u'height', u'weight', u'frame', u'bp.1s', u'bp.1d',\n",
       "       u'waist', u'hip', u'time.ppn', u'bad_chol'],\n",
       "      dtype='object')"
      ]
     },
     "execution_count": 26,
     "metadata": {},
     "output_type": "execute_result"
    }
   ],
   "source": [
    "diabetes.columns"
   ]
  },
  {
   "cell_type": "code",
   "execution_count": 27,
   "metadata": {
    "collapsed": false
   },
   "outputs": [
    {
     "data": {
      "text/html": [
       "<div>\n",
       "<table border=\"1\" class=\"dataframe\">\n",
       "  <thead>\n",
       "    <tr style=\"text-align: right;\">\n",
       "      <th></th>\n",
       "      <th>good_chol</th>\n",
       "      <th>bad_chol</th>\n",
       "      <th>glyhb</th>\n",
       "    </tr>\n",
       "  </thead>\n",
       "  <tbody>\n",
       "    <tr>\n",
       "      <th>good_chol</th>\n",
       "      <td>1.000000</td>\n",
       "      <td>-0.201216</td>\n",
       "      <td>-0.149724</td>\n",
       "    </tr>\n",
       "    <tr>\n",
       "      <th>bad_chol</th>\n",
       "      <td>-0.201216</td>\n",
       "      <td>1.000000</td>\n",
       "      <td>0.297151</td>\n",
       "    </tr>\n",
       "    <tr>\n",
       "      <th>glyhb</th>\n",
       "      <td>-0.149724</td>\n",
       "      <td>0.297151</td>\n",
       "      <td>1.000000</td>\n",
       "    </tr>\n",
       "  </tbody>\n",
       "</table>\n",
       "</div>"
      ],
      "text/plain": [
       "           good_chol  bad_chol     glyhb\n",
       "good_chol   1.000000 -0.201216 -0.149724\n",
       "bad_chol   -0.201216  1.000000  0.297151\n",
       "glyhb      -0.149724  0.297151  1.000000"
      ]
     },
     "execution_count": 27,
     "metadata": {},
     "output_type": "execute_result"
    }
   ],
   "source": [
    "diabetes[['good_chol','bad_chol','glyhb']].corr()"
   ]
  },
  {
   "cell_type": "markdown",
   "metadata": {},
   "source": [
    "### Do the correlations change for each gender?"
   ]
  },
  {
   "cell_type": "code",
   "execution_count": 28,
   "metadata": {
    "collapsed": false,
    "scrolled": true
   },
   "outputs": [
    {
     "data": {
      "text/html": [
       "<div>\n",
       "<table border=\"1\" class=\"dataframe\">\n",
       "  <thead>\n",
       "    <tr style=\"text-align: right;\">\n",
       "      <th></th>\n",
       "      <th></th>\n",
       "      <th>good_chol</th>\n",
       "      <th>bad_chol</th>\n",
       "      <th>glyhb</th>\n",
       "    </tr>\n",
       "    <tr>\n",
       "      <th>gender</th>\n",
       "      <th></th>\n",
       "      <th></th>\n",
       "      <th></th>\n",
       "      <th></th>\n",
       "    </tr>\n",
       "  </thead>\n",
       "  <tbody>\n",
       "    <tr>\n",
       "      <th rowspan=\"3\" valign=\"top\">female</th>\n",
       "      <th>good_chol</th>\n",
       "      <td>1.000000</td>\n",
       "      <td>-0.177114</td>\n",
       "      <td>-0.072095</td>\n",
       "    </tr>\n",
       "    <tr>\n",
       "      <th>bad_chol</th>\n",
       "      <td>-0.177114</td>\n",
       "      <td>1.000000</td>\n",
       "      <td>0.358931</td>\n",
       "    </tr>\n",
       "    <tr>\n",
       "      <th>glyhb</th>\n",
       "      <td>-0.072095</td>\n",
       "      <td>0.358931</td>\n",
       "      <td>1.000000</td>\n",
       "    </tr>\n",
       "    <tr>\n",
       "      <th rowspan=\"3\" valign=\"top\">male</th>\n",
       "      <th>good_chol</th>\n",
       "      <td>1.000000</td>\n",
       "      <td>-0.229078</td>\n",
       "      <td>-0.238937</td>\n",
       "    </tr>\n",
       "    <tr>\n",
       "      <th>bad_chol</th>\n",
       "      <td>-0.229078</td>\n",
       "      <td>1.000000</td>\n",
       "      <td>0.222940</td>\n",
       "    </tr>\n",
       "    <tr>\n",
       "      <th>glyhb</th>\n",
       "      <td>-0.238937</td>\n",
       "      <td>0.222940</td>\n",
       "      <td>1.000000</td>\n",
       "    </tr>\n",
       "  </tbody>\n",
       "</table>\n",
       "</div>"
      ],
      "text/plain": [
       "                  good_chol  bad_chol     glyhb\n",
       "gender                                         \n",
       "female good_chol   1.000000 -0.177114 -0.072095\n",
       "       bad_chol   -0.177114  1.000000  0.358931\n",
       "       glyhb      -0.072095  0.358931  1.000000\n",
       "male   good_chol   1.000000 -0.229078 -0.238937\n",
       "       bad_chol   -0.229078  1.000000  0.222940\n",
       "       glyhb      -0.238937  0.222940  1.000000"
      ]
     },
     "execution_count": 28,
     "metadata": {},
     "output_type": "execute_result"
    }
   ],
   "source": [
    "diabetes.groupby('gender')[['good_chol','bad_chol','glyhb']].corr()"
   ]
  },
  {
   "cell_type": "code",
   "execution_count": 29,
   "metadata": {
    "collapsed": false
   },
   "outputs": [
    {
     "data": {
      "text/plain": [
       "<seaborn.axisgrid.FacetGrid at 0xa822208>"
      ]
     },
     "execution_count": 29,
     "metadata": {},
     "output_type": "execute_result"
    },
    {
     "data": {
      "image/png": "[encoded data removed]",
      "text/plain": [
       "<matplotlib.figure.Figure at 0xb7c36a0>"
      ]
     },
     "metadata": {},
     "output_type": "display_data"
    }
   ],
   "source": [
    "sns.lmplot(x='good_chol', y='glyhb', col='gender', data=diabetes)"
   ]
  },
  {
   "cell_type": "code",
   "execution_count": 30,
   "metadata": {
    "collapsed": false
   },
   "outputs": [
    {
     "data": {
      "text/plain": [
       "<seaborn.axisgrid.FacetGrid at 0xd001278>"
      ]
     },
     "execution_count": 30,
     "metadata": {},
     "output_type": "execute_result"
    },
    {
     "data": {
      "image/png": "[encoded data removed]",
      "text/plain": [
       "<matplotlib.figure.Figure at 0xa748780>"
      ]
     },
     "metadata": {},
     "output_type": "display_data"
    }
   ],
   "source": [
    "sns.lmplot(x='bad_chol', y='glyhb', col='gender', data=diabetes[diabetes.glyhb<8])"
   ]
  },
  {
   "cell_type": "markdown",
   "metadata": {},
   "source": [
    "### Outlier detection"
   ]
  },
  {
   "cell_type": "markdown",
   "metadata": {},
   "source": [
    "### heuristic approach:\n",
    "1. Classify as outliers points outside the interval $[Q1 - 1.5IQR,Q3 + 1.5IQR]$\n",
    "2. For distribution close to the Normal Distribution, classify as outliers points outside the interval $[mean-3.5sd,mean+3.5sd]$"
   ]
  },
  {
   "cell_type": "code",
   "execution_count": 31,
   "metadata": {
    "collapsed": true
   },
   "outputs": [],
   "source": [
    "def detect_outliers(series):\n",
    "    Q1, Q3 = series.quantile(q=np.array([0.25,0.75]))\n",
    "    IQR = Q3 - Q1\n",
    "    sd = series.std()\n",
    "    m = series.mean()\n",
    "    tukey = series[(series < (Q1-1.5*IQR)) | (series > (Q3+1.5*IQR))]\n",
    "    normal = series[(series < (m-3.5*sd)) | (series > (m+3.5*sd))]\n",
    "    return {'Tukey':tukey, 'Normal':normal}"
   ]
  },
  {
   "cell_type": "code",
   "execution_count": 32,
   "metadata": {
    "collapsed": false
   },
   "outputs": [
    {
     "name": "stdout",
     "output_type": "stream",
     "text": [
      "3       78.0\n",
      "62     443.0\n",
      "133    318.0\n",
      "147    347.0\n",
      "212    342.0\n",
      "294    404.0\n",
      "359    307.0\n",
      "377    337.0\n",
      "380    322.0\n",
      "Name: total_chol, dtype: float64\n",
      "62     443.0\n",
      "294    404.0\n",
      "Name: total_chol, dtype: float64\n"
     ]
    }
   ],
   "source": [
    "print detect_outliers(diabetes.total_chol)['Tukey']\n",
    "print detect_outliers(diabetes.total_chol)['Normal']"
   ]
  },
  {
   "cell_type": "code",
   "execution_count": 33,
   "metadata": {
    "collapsed": false
   },
   "outputs": [
    {
     "data": {
      "text/plain": [
       "total_chol    {u'Tukey': [78.0, 443.0, 318.0, 347.0, 342.0, ...\n",
       "good_chol     {u'Tukey': [92.0, 114.0, 94.0, 108.0, 92.0, 12...\n",
       "bad_chol      {u'Tukey': [420.0, 305.0, 294.0, 261.0, 371.0,...\n",
       "dtype: object"
      ]
     },
     "execution_count": 33,
     "metadata": {},
     "output_type": "execute_result"
    }
   ],
   "source": [
    "diabetes[chol_vars].apply(detect_outliers)"
   ]
  },
  {
   "cell_type": "markdown",
   "metadata": {},
   "source": [
    "## Statistical distributions in Python"
   ]
  },
  {
   "cell_type": "markdown",
   "metadata": {},
   "source": [
    "### Random Variable\n",
    "> a variable whose value is subject to variations due to chance (i.e. randomness, in a mathematical sense). A random variable can take on a set of possible different values (similarly to other mathematical variables), each with an associated probability [wiki](https://en.wikipedia.org/wiki/Random_variable)\n",
    "\n",
    "**Types**\n",
    "\n",
    "1. Discrete Random Variables <br>\n",
    "    Eg: Genders of the buyers buying shoe\n",
    "2. Continuous Random Variables <br>\n",
    "    Eg: Shoe Sales in a quarter\n",
    "    \n",
    "### Probability Distribution\n",
    "> Assigns a probability to each measurable subset of the possible outcomes of a random experiment, survey, or procedure of statistical inference. [wiki](https://en.wikipedia.org/wiki/Probability_distribution)\n",
    "\n",
    "#### Probability Mass Function (pmf)\n",
    "probability mass function (pmf) is a function that gives the probability that a discrete random variable is exactly equal to some value\n",
    "\n",
    "#### Probability Density Function (pdf)\n",
    "A probability density function (PDF), or density of a continuous random variable, is a function that describes the relative likelihood for this random variable to take on a given value.\n",
    "\n",
    "#### Cumulative Distribution function (cdf)\n",
    "In probability theory and statistics, the cumulative distribution function (CDF) of a real-valued random variable X, or just distribution function of X, evaluated at x, is the probability that X will take a value less than or equal to x.\n",
    "In the case of a continuous distribution, it gives the area under the probability density function from minus infinity to x."
   ]
  },
  {
   "cell_type": "code",
   "execution_count": 34,
   "metadata": {
    "collapsed": true
   },
   "outputs": [],
   "source": [
    "from scipy import stats"
   ]
  },
  {
   "cell_type": "markdown",
   "metadata": {},
   "source": [
    "Documentation for the `stats` scipy package: http://docs.scipy.org/doc/scipy/reference/stats.html"
   ]
  },
  {
   "cell_type": "code",
   "execution_count": 35,
   "metadata": {
    "collapsed": false
   },
   "outputs": [
    {
     "data": {
      "image/png": "aW1nL2NkZnBkZi5wbmc=\n",
      "text/plain": [
       "<IPython.core.display.Image object>"
      ]
     },
     "execution_count": 35,
     "metadata": {},
     "output_type": "execute_result"
    }
   ],
   "source": [
    "from IPython.display import Image\n",
    "Image(\"img/cdfpdf.png\")"
   ]
  },
  {
   "cell_type": "code",
   "execution_count": 37,
   "metadata": {
    "collapsed": false
   },
   "outputs": [
    {
     "name": "stdout",
     "output_type": "stream",
     "text": [
      "0.398942280401\n",
      "0.5\n",
      "0.0\n",
      "(-1.959963984540054, 1.959963984540054)\n",
      "0.861894236406\n"
     ]
    }
   ],
   "source": [
    "print stats.norm.pdf(0)\n",
    "print stats.norm.cdf(0)\n",
    "print stats.norm.ppf(0.5) # inverse cdf\n",
    "print stats.norm.interval(0.95) # 95% interval around the median\n",
    "print stats.norm.rvs(1)"
   ]
  },
  {
   "cell_type": "markdown",
   "metadata": {},
   "source": [
    "## Inferencial Statistics: Estimation and Distributions"
   ]
  },
  {
   "cell_type": "markdown",
   "metadata": {},
   "source": [
    "### Population vs. Sample\n",
    "\n",
    "Technically a sample is any subset from the population. In practice is a set of data collected and/or selected from a statistical population by a **defined procedure**. The elements of a sample are known as sample points, sampling units or observations.\n",
    "\n",
    "Why do we need to work with samples samples?\n",
    "\n",
    "Typically, the population is very large, making a census or a complete enumeration of all the values in the population is either impractical or impossible.\n",
    "\n",
    "A good sampling procedure extracts a sample that reflects the main characteristics of the **population**."
   ]
  },
  {
   "cell_type": "markdown",
   "metadata": {},
   "source": [
    "#### Statistical inference\n",
    "\n",
    "Statistical inference is the process of deducing properties of an underlying distribution by analysis of data. Inferential statistical analysis infers properties about a population: this includes testing hypotheses and deriving estimates. The population is assumed to be larger than the observed data set; in other words, the observed data is assumed to be sampled from a larger population."
   ]
  },
  {
   "cell_type": "code",
   "execution_count": 38,
   "metadata": {
    "collapsed": false
   },
   "outputs": [
    {
     "data": {
      "text/html": [
       "<div>\n",
       "<table border=\"1\" class=\"dataframe\">\n",
       "  <thead>\n",
       "    <tr style=\"text-align: right;\">\n",
       "      <th></th>\n",
       "      <th>sample_1</th>\n",
       "      <th>sample_2</th>\n",
       "      <th>sample_3</th>\n",
       "      <th>sample_4</th>\n",
       "      <th>sample_5</th>\n",
       "      <th>sample_6</th>\n",
       "      <th>sample_7</th>\n",
       "      <th>sample_8</th>\n",
       "      <th>sample_9</th>\n",
       "      <th>sample_10</th>\n",
       "    </tr>\n",
       "  </thead>\n",
       "  <tbody>\n",
       "    <tr>\n",
       "      <th>0</th>\n",
       "      <td>100.0</td>\n",
       "      <td>103.8</td>\n",
       "      <td>86.1</td>\n",
       "      <td>99.5</td>\n",
       "      <td>104.3</td>\n",
       "      <td>115.4</td>\n",
       "      <td>94.9</td>\n",
       "      <td>106.3</td>\n",
       "      <td>87.5</td>\n",
       "      <td>102.8</td>\n",
       "    </tr>\n",
       "    <tr>\n",
       "      <th>1</th>\n",
       "      <td>101.4</td>\n",
       "      <td>105.2</td>\n",
       "      <td>100.7</td>\n",
       "      <td>96.6</td>\n",
       "      <td>104.4</td>\n",
       "      <td>92.9</td>\n",
       "      <td>103.5</td>\n",
       "      <td>84.1</td>\n",
       "      <td>99.8</td>\n",
       "      <td>102.8</td>\n",
       "    </tr>\n",
       "    <tr>\n",
       "      <th>2</th>\n",
       "      <td>100.6</td>\n",
       "      <td>112.7</td>\n",
       "      <td>85.5</td>\n",
       "      <td>97.3</td>\n",
       "      <td>120.7</td>\n",
       "      <td>92.8</td>\n",
       "      <td>106.1</td>\n",
       "      <td>120.4</td>\n",
       "      <td>103.9</td>\n",
       "      <td>99.1</td>\n",
       "    </tr>\n",
       "    <tr>\n",
       "      <th>3</th>\n",
       "      <td>104.3</td>\n",
       "      <td>103.9</td>\n",
       "      <td>94.9</td>\n",
       "      <td>92.2</td>\n",
       "      <td>85.9</td>\n",
       "      <td>99.6</td>\n",
       "      <td>106.4</td>\n",
       "      <td>88.1</td>\n",
       "      <td>87.5</td>\n",
       "      <td>104.2</td>\n",
       "    </tr>\n",
       "    <tr>\n",
       "      <th>4</th>\n",
       "      <td>108.8</td>\n",
       "      <td>83.3</td>\n",
       "      <td>76.1</td>\n",
       "      <td>98.7</td>\n",
       "      <td>97.2</td>\n",
       "      <td>96.5</td>\n",
       "      <td>107.5</td>\n",
       "      <td>102.2</td>\n",
       "      <td>101.1</td>\n",
       "      <td>76.7</td>\n",
       "    </tr>\n",
       "  </tbody>\n",
       "</table>\n",
       "</div>"
      ],
      "text/plain": [
       "   sample_1  sample_2  sample_3  sample_4  sample_5  sample_6  sample_7  \\\n",
       "0     100.0     103.8      86.1      99.5     104.3     115.4      94.9   \n",
       "1     101.4     105.2     100.7      96.6     104.4      92.9     103.5   \n",
       "2     100.6     112.7      85.5      97.3     120.7      92.8     106.1   \n",
       "3     104.3     103.9      94.9      92.2      85.9      99.6     106.4   \n",
       "4     108.8      83.3      76.1      98.7      97.2      96.5     107.5   \n",
       "\n",
       "   sample_8  sample_9  sample_10  \n",
       "0     106.3      87.5      102.8  \n",
       "1      84.1      99.8      102.8  \n",
       "2     120.4     103.9       99.1  \n",
       "3      88.1      87.5      104.2  \n",
       "4     102.2     101.1       76.7  "
      ]
     },
     "execution_count": 38,
     "metadata": {},
     "output_type": "execute_result"
    }
   ],
   "source": [
    "samples = np.round(np.random.normal(loc=100, scale=10, size=(60,10)),1)\n",
    "samples = pd.DataFrame(data=samples, columns=['sample_' + str(i+1) for i in range(10)])\n",
    "samples.head()"
   ]
  },
  {
   "cell_type": "code",
   "execution_count": 39,
   "metadata": {
    "collapsed": false
   },
   "outputs": [
    {
     "data": {
      "text/plain": [
       "sample_1     100.148333\n",
       "sample_2     100.601667\n",
       "sample_3      99.850000\n",
       "sample_4      98.810000\n",
       "sample_5     101.538333\n",
       "sample_6     100.235000\n",
       "sample_7      99.396667\n",
       "sample_8      99.150000\n",
       "sample_9      99.140000\n",
       "sample_10    100.793333\n",
       "dtype: float64"
      ]
     },
     "execution_count": 39,
     "metadata": {},
     "output_type": "execute_result"
    }
   ],
   "source": [
    "samples.mean()"
   ]
  },
  {
   "cell_type": "code",
   "execution_count": 40,
   "metadata": {
    "collapsed": false
   },
   "outputs": [
    {
     "data": {
      "image/png": "[encoded data removed]",
      "text/plain": [
       "<matplotlib.figure.Figure at 0xcf54cc0>"
      ]
     },
     "metadata": {},
     "output_type": "display_data"
    }
   ],
   "source": [
    "samples[['sample_1','sample_2','sample_3']].hist(figsize=(13,5), layout=(1,3), bins=15);"
   ]
  },
  {
   "cell_type": "markdown",
   "metadata": {},
   "source": [
    "#### Estimating population parameters"
   ]
  },
  {
   "cell_type": "markdown",
   "metadata": {},
   "source": [
    "Sometimes you are only interested in very specific population characteristics. Most commonly we would like to infer something about the tipical value observed in the population (the mean) or the dispersion of the observations in the population.\n",
    "In classical statistis, there are two types of estimations:\n",
    "\n",
    "* **A point estimate**: a particular value that best approximates some parameter of interest.\n",
    "* **An interval estimate**: a confidence interval (or set estimate), i.e. an interval constructed using a dataset drawn from a population so that, under repeated sampling of such datasets, such intervals would contain the true parameter value with the probability at the stated confidence level.\n",
    "\n",
    "There are many ways to estimate parameters from the population, in classical statistics, some of the most known approaches are:\n",
    "\n",
    "* Method of moments\n",
    "* Maximum likelihood estimation\n",
    "* Bootstrap"
   ]
  },
  {
   "cell_type": "markdown",
   "metadata": {},
   "source": [
    "#### Estimate the population means and standard deviations for the cholesterol variables."
   ]
  },
  {
   "cell_type": "code",
   "execution_count": 41,
   "metadata": {
    "collapsed": false
   },
   "outputs": [
    {
     "data": {
      "text/plain": [
       "total_chol    207.836228\n",
       "good_chol      50.434243\n",
       "bad_chol      157.401985\n",
       "dtype: float64"
      ]
     },
     "execution_count": 41,
     "metadata": {},
     "output_type": "execute_result"
    }
   ],
   "source": [
    "diabetes[chol_vars].mean()"
   ]
  },
  {
   "cell_type": "code",
   "execution_count": 42,
   "metadata": {
    "collapsed": false
   },
   "outputs": [
    {
     "data": {
      "text/plain": [
       "total_chol    44.390656\n",
       "good_chol     17.242563\n",
       "bad_chol      44.521415\n",
       "dtype: float64"
      ]
     },
     "execution_count": 42,
     "metadata": {},
     "output_type": "execute_result"
    }
   ],
   "source": [
    "diabetes[chol_vars].std()"
   ]
  },
  {
   "cell_type": "code",
   "execution_count": 43,
   "metadata": {
    "collapsed": false
   },
   "outputs": [
    {
     "data": {
      "text/html": [
       "<div>\n",
       "<table border=\"1\" class=\"dataframe\">\n",
       "  <thead>\n",
       "    <tr>\n",
       "      <th></th>\n",
       "      <th colspan=\"2\" halign=\"left\">total_chol</th>\n",
       "      <th colspan=\"2\" halign=\"left\">good_chol</th>\n",
       "      <th colspan=\"2\" halign=\"left\">bad_chol</th>\n",
       "    </tr>\n",
       "    <tr>\n",
       "      <th></th>\n",
       "      <th>mean</th>\n",
       "      <th>std</th>\n",
       "      <th>mean</th>\n",
       "      <th>std</th>\n",
       "      <th>mean</th>\n",
       "      <th>std</th>\n",
       "    </tr>\n",
       "    <tr>\n",
       "      <th>gender</th>\n",
       "      <th></th>\n",
       "      <th></th>\n",
       "      <th></th>\n",
       "      <th></th>\n",
       "      <th></th>\n",
       "      <th></th>\n",
       "    </tr>\n",
       "  </thead>\n",
       "  <tbody>\n",
       "    <tr>\n",
       "      <th>female</th>\n",
       "      <td>208.435897</td>\n",
       "      <td>43.747105</td>\n",
       "      <td>52.111111</td>\n",
       "      <td>17.255106</td>\n",
       "      <td>156.324786</td>\n",
       "      <td>43.372492</td>\n",
       "    </tr>\n",
       "    <tr>\n",
       "      <th>male</th>\n",
       "      <td>207.005917</td>\n",
       "      <td>45.384272</td>\n",
       "      <td>48.112426</td>\n",
       "      <td>17.004002</td>\n",
       "      <td>158.893491</td>\n",
       "      <td>46.153605</td>\n",
       "    </tr>\n",
       "  </tbody>\n",
       "</table>\n",
       "</div>"
      ],
      "text/plain": [
       "        total_chol             good_chol               bad_chol           \n",
       "              mean        std       mean        std        mean        std\n",
       "gender                                                                    \n",
       "female  208.435897  43.747105  52.111111  17.255106  156.324786  43.372492\n",
       "male    207.005917  45.384272  48.112426  17.004002  158.893491  46.153605"
      ]
     },
     "execution_count": 43,
     "metadata": {},
     "output_type": "execute_result"
    }
   ],
   "source": [
    "diabetes.groupby('gender')[chol_vars].agg([np.mean, np.std])"
   ]
  },
  {
   "cell_type": "code",
   "execution_count": 44,
   "metadata": {
    "collapsed": false
   },
   "outputs": [
    {
     "data": {
      "text/html": [
       "<div>\n",
       "<table border=\"1\" class=\"dataframe\">\n",
       "  <thead>\n",
       "    <tr>\n",
       "      <th></th>\n",
       "      <th colspan=\"2\" halign=\"left\">total_chol</th>\n",
       "      <th colspan=\"2\" halign=\"left\">good_chol</th>\n",
       "      <th colspan=\"2\" halign=\"left\">bad_chol</th>\n",
       "    </tr>\n",
       "    <tr>\n",
       "      <th></th>\n",
       "      <th>mean</th>\n",
       "      <th>std</th>\n",
       "      <th>mean</th>\n",
       "      <th>std</th>\n",
       "      <th>mean</th>\n",
       "      <th>std</th>\n",
       "    </tr>\n",
       "    <tr>\n",
       "      <th>frame</th>\n",
       "      <th></th>\n",
       "      <th></th>\n",
       "      <th></th>\n",
       "      <th></th>\n",
       "      <th></th>\n",
       "      <th></th>\n",
       "    </tr>\n",
       "  </thead>\n",
       "  <tbody>\n",
       "    <tr>\n",
       "      <th>large</th>\n",
       "      <td>208.000000</td>\n",
       "      <td>43.252111</td>\n",
       "      <td>44.601942</td>\n",
       "      <td>13.364674</td>\n",
       "      <td>163.398058</td>\n",
       "      <td>41.461378</td>\n",
       "    </tr>\n",
       "    <tr>\n",
       "      <th>medium</th>\n",
       "      <td>213.204082</td>\n",
       "      <td>46.874838</td>\n",
       "      <td>50.836735</td>\n",
       "      <td>17.980442</td>\n",
       "      <td>162.367347</td>\n",
       "      <td>47.331106</td>\n",
       "    </tr>\n",
       "    <tr>\n",
       "      <th>small</th>\n",
       "      <td>197.557692</td>\n",
       "      <td>38.946771</td>\n",
       "      <td>55.451923</td>\n",
       "      <td>17.654109</td>\n",
       "      <td>142.105769</td>\n",
       "      <td>38.386112</td>\n",
       "    </tr>\n",
       "  </tbody>\n",
       "</table>\n",
       "</div>"
      ],
      "text/plain": [
       "        total_chol             good_chol               bad_chol           \n",
       "              mean        std       mean        std        mean        std\n",
       "frame                                                                     \n",
       "large   208.000000  43.252111  44.601942  13.364674  163.398058  41.461378\n",
       "medium  213.204082  46.874838  50.836735  17.980442  162.367347  47.331106\n",
       "small   197.557692  38.946771  55.451923  17.654109  142.105769  38.386112"
      ]
     },
     "execution_count": 44,
     "metadata": {},
     "output_type": "execute_result"
    }
   ],
   "source": [
    "diabetes.groupby('frame')[chol_vars].agg([np.mean, np.std])"
   ]
  },
  {
   "cell_type": "markdown",
   "metadata": {},
   "source": [
    "#### Estimating with confidence intervals\n",
    "An interval estimate specifies instead a range within which the parameter is estimated to lie. A confidence interval has a level of \"confidence\" associated with the estimation."
   ]
  },
  {
   "cell_type": "code",
   "execution_count": null,
   "metadata": {
    "collapsed": false
   },
   "outputs": [],
   "source": [
    "Image(\"img/ci-for-mean.JPG\")"
   ]
  },
  {
   "cell_type": "code",
   "execution_count": 45,
   "metadata": {
    "collapsed": true
   },
   "outputs": [],
   "source": [
    "total_chol_mean = diabetes['total_chol'].mean()\n",
    "total_chol_sd = diabetes['total_chol'].std()\n",
    "total_chol_n = len(diabetes['total_chol'])\n",
    "degrees_freedom = total_chol_n - 1 "
   ]
  },
  {
   "cell_type": "code",
   "execution_count": 46,
   "metadata": {
    "collapsed": false
   },
   "outputs": [
    {
     "data": {
      "text/plain": [
       "(-1.9658826616821219, 1.9658826616821219)"
      ]
     },
     "execution_count": 46,
     "metadata": {},
     "output_type": "execute_result"
    }
   ],
   "source": [
    "t_alphas = stats.t(df=degrees_freedom).interval(alpha=0.95)\n",
    "t_alphas"
   ]
  },
  {
   "cell_type": "code",
   "execution_count": 47,
   "metadata": {
    "collapsed": false
   },
   "outputs": [
    {
     "data": {
      "text/plain": [
       "203.4891583160115"
      ]
     },
     "execution_count": 47,
     "metadata": {},
     "output_type": "execute_result"
    }
   ],
   "source": [
    "total_chol_mean - t_alphas[1]*total_chol_sd/np.sqrt(total_chol_n)"
   ]
  },
  {
   "cell_type": "code",
   "execution_count": 48,
   "metadata": {
    "collapsed": false
   },
   "outputs": [
    {
     "name": "stdout",
     "output_type": "stream",
     "text": [
      "Lower end: 203.489158316\n",
      "Middle point: 207.836228288\n",
      "Upper end: 212.18329826\n"
     ]
    }
   ],
   "source": [
    "interval_for_mean = (total_chol_mean - t_alphas[1]*total_chol_sd/np.sqrt(total_chol_n), \\\n",
    "                     total_chol_mean + t_alphas[1]*total_chol_sd/np.sqrt(total_chol_n))\n",
    "\n",
    "print 'Lower end: {}'.format(interval_for_mean[0])\n",
    "print 'Middle point: {}'.format(total_chol_mean)\n",
    "print 'Upper end: {}'.format(interval_for_mean[1])"
   ]
  },
  {
   "cell_type": "code",
   "execution_count": null,
   "metadata": {
    "collapsed": false
   },
   "outputs": [],
   "source": [
    "Image(\"img/confidencevariance.jpg\")"
   ]
  },
  {
   "cell_type": "code",
   "execution_count": 49,
   "metadata": {
    "collapsed": false
   },
   "outputs": [
    {
     "data": {
      "image/png": "[encoded data removed]",
      "text/plain": [
       "<matplotlib.figure.Figure at 0xbbaac88>"
      ]
     },
     "metadata": {},
     "output_type": "display_data"
    }
   ],
   "source": [
    "x = np.linspace(15,25,200)\n",
    "plt.plot(x, stats.chi(df=degrees_freedom).pdf(x));"
   ]
  },
  {
   "cell_type": "code",
   "execution_count": null,
   "metadata": {
    "collapsed": false
   },
   "outputs": [],
   "source": [
    "print stats.chi(df=degrees_freedom).ppf(0.025)**2\n",
    "print stats.chi(df=degrees_freedom).ppf(0.975)**2"
   ]
  },
  {
   "cell_type": "code",
   "execution_count": null,
   "metadata": {
    "collapsed": false
   },
   "outputs": [],
   "source": [
    "chi_alphas = stats.chi(df=degrees_freedom).interval(0.95) # This are the square roots of the above values\n",
    "chi_alphas"
   ]
  },
  {
   "cell_type": "code",
   "execution_count": null,
   "metadata": {
    "collapsed": false
   },
   "outputs": [],
   "source": [
    "inteval_for_sd = (np.sqrt(degrees_freedom)*total_chol_sd/chi_alphas[1], np.sqrt(degrees_freedom)*total_chol_sd/chi_alphas[0])\n",
    "print 'Lower end: {}'.format(inteval_for_sd[0])\n",
    "print 'Middle point: {}'.format(total_chol_sd)\n",
    "print 'Upper end: {}'.format(inteval_for_sd[1])"
   ]
  },
  {
   "cell_type": "markdown",
   "metadata": {},
   "source": [
    "### Estimating distributions\n",
    "\n",
    "In **parametric** inference, we specify *a priori* a suitable distribution, then choose the parameters that best fit the data.\n",
    "\n",
    "The first step is recognixing what sort of distribution to fit our data to."
   ]
  },
  {
   "cell_type": "code",
   "execution_count": null,
   "metadata": {
    "collapsed": false
   },
   "outputs": [],
   "source": [
    "sns.distplot(diabetes['good_chol']);"
   ]
  },
  {
   "cell_type": "markdown",
   "metadata": {},
   "source": [
    "In this example we can make a couple of observations:\n",
    "\n",
    "1. The data are skewed, with a longer tail to the right than to the left.\n",
    "2. The data are positive-valued, since they are measuring something that can only be positive.\n",
    "3. The data are continuous.\n",
    "\n",
    "There are a few possible choices, but one suitable alternative is the **gamma distribution**:\n",
    "\n",
    "<div style=\"font-size: 150%;\">  \n",
    "$$x \\sim \\text{Gamma}(k, \\theta) = \\frac{1}{\\Gamma(k)\\theta^k}x^{k-1} e^{-x/\\theta} $$\n",
    "</div>\n",
    "\n",
    "![gamma](http://upload.wikimedia.org/wikipedia/commons/thumb/e/e6/Gamma_distribution_pdf.svg/500px-Gamma_distribution_pdf.svg.png)"
   ]
  },
  {
   "cell_type": "markdown",
   "metadata": {},
   "source": [
    "The ***method of moments*** simply assigns the empirical mean and variance to their theoretical counterparts, so that we can solve for the parameters.\n",
    "\n",
    "So, for the gamma distribution, the mean and variance are:\n",
    "\n",
    "<div style=\"font-size: 150%;\">  \n",
    "$$ \\hat{\\mu} = \\bar{X} = k \\theta $$\n",
    "$$ \\hat{\\sigma}^2 = S^2 = k \\theta^2 $$\n",
    "</div>\n",
    "\n",
    "So, if we solve for these parameters, we can use a gamma distribution to describe our data:\n",
    "\n",
    "<div style=\"font-size: 150%;\">  \n",
    "$$ k = \\frac{\\bar{X}^2}{S^2}, \\, \\theta = \\frac{S^2}{\\bar{X}} $$\n",
    "</div>"
   ]
  },
  {
   "cell_type": "code",
   "execution_count": null,
   "metadata": {
    "collapsed": false
   },
   "outputs": [],
   "source": [
    "good_chol_mean = diabetes['good_chol'].mean()\n",
    "good_chol_sd = diabetes['good_chol'].std()\n",
    "k = good_chol_mean**2/good_chol_sd**2\n",
    "theta = good_chol_sd**2/good_chol_mean\n",
    "print k\n",
    "print theta"
   ]
  },
  {
   "cell_type": "code",
   "execution_count": null,
   "metadata": {
    "collapsed": false,
    "scrolled": false
   },
   "outputs": [],
   "source": [
    "fig, ax = plt.subplots()\n",
    "x = np.linspace(0,140,200)\n",
    "sns.distplot(diabetes['good_chol'], ax=ax)\n",
    "ax.plot(x, stats.gamma(a=k, scale=theta).pdf(x), color='red');"
   ]
  },
  {
   "cell_type": "markdown",
   "metadata": {},
   "source": [
    "#### Levels for good cholesterol (hdl)\n",
    "<table>\n",
    "<tbody>\n",
    "  <tr>\n",
    "    <td id=\"C5 R9\" class=\"VeryHigh\">Less than 40 mg/dL</td>\n",
    "    <td id=\"C6 R9\" class=\"VeryHigh\">A major risk factor for heart disease</td>\n",
    "  </tr>\n",
    "  <tr>\n",
    "    <td id=\"C5 R10\" class=\"Nearoptimal\">40—59 mg/dL</td>\n",
    "    <td id=\"C6 R10\" class=\"Nearoptimal\">The higher, the better</td>\n",
    "  </tr>\n",
    "  <tr>\n",
    "    <td id=\"C5 R11\" class=\"Optimal\">60 mg/dL and higher</td>\n",
    "    <td id=\"C6 R11\" class=\"Optimal\">Considered protective against heart disease</td>\n",
    "  </tr>\n",
    "</tbody>\n",
    "</table>"
   ]
  },
  {
   "cell_type": "markdown",
   "metadata": {},
   "source": [
    "** Conclusions of our model with respect to the population **"
   ]
  },
  {
   "cell_type": "code",
   "execution_count": null,
   "metadata": {
    "collapsed": false
   },
   "outputs": [],
   "source": [
    "print \"According to our statistical model:\\n\"\n",
    "print \"About {:0.1f}% of the population with diabetes has hdl levels that are considered \\\n",
    "a major risk factor for heart disease.\\n\".format(100*stats.gamma(a=k, scale=theta).cdf(40))\n",
    "print \"About {:0.1f}% of the population with diabetes has hdl levels that are considered \\\n",
    "normal and healthy.\\n\".format(100*(stats.gamma(a=k, scale=theta).cdf(60) - stats.gamma(a=k, scale=theta).cdf(40)))\n",
    "print \"About {:0.1f}% of the population with diabetes has hdl levels that are considered \\\n",
    "protective against heart disease.\\n\".format(100*(1-stats.gamma(a=k, scale=theta).cdf(60)))"
   ]
  },
  {
   "cell_type": "markdown",
   "metadata": {},
   "source": [
    "## Inferencial Statistics: Hypothesis Testing"
   ]
  },
  {
   "cell_type": "markdown",
   "metadata": {},
   "source": [
    "We would like to know if the effects we see in the sample(observed data) are likely to occur in the population. \n",
    "\n",
    "The way classical hypothesis testing works is by conducting a statistical test to answer the following question:\n",
    "> Given the sample and an effect, what is the probability of seeing that effect just by chance?\n",
    "\n",
    "Here are the steps on how we would do this\n",
    "\n",
    "1. Define your hypothesis\n",
    "2. Choose the appropiate statistical test\n",
    "3. Compute test statistic and p-value\n",
    "4. Interpret the result\n",
    "\n",
    "If p-value is very low(most often than now, below 0.05), the effect is considered statistically significant. That means that effect is unlikely to have occured by chance. The inference? The effect is likely to be seen in the population too. \n",
    "\n",
    "This process is very similar to the *proof by contradiction* paradigm. We first assume that the effect is false. That's the null hypothesis. Next step is to compute the probability of obtaining that effect (the p-value). If p-value is very low(<0.05 as a rule of thumb), we reject the null hypothesis. "
   ]
  },
  {
   "cell_type": "markdown",
   "metadata": {},
   "source": [
    "### Question 1: Is there a gender difference in the bad cholesterol mean levels in patients with diabetes?"
   ]
  },
  {
   "cell_type": "code",
   "execution_count": 50,
   "metadata": {
    "collapsed": false,
    "scrolled": true
   },
   "outputs": [
    {
     "data": {
      "image/png": "[encoded data removed]",
      "text/plain": [
       "<matplotlib.figure.Figure at 0xb8cbac8>"
      ]
     },
     "metadata": {},
     "output_type": "display_data"
    }
   ],
   "source": [
    "sns.factorplot(x='gender', y='bad_chol', data=diabetes, aspect=1.8);"
   ]
  },
  {
   "cell_type": "markdown",
   "metadata": {},
   "source": [
    "### 1. Define your hypothesis\n",
    "** Null Hypothesis: There is no difference between the population means of bad cholesterol levels: ($\\mu_{male}=\\mu_{female}$)**\n",
    "\n",
    "** Alternative Hypothesis: There is a difference between the population means of bad cholesterol levels: ($\\mu_{male}\\neq\\mu_{female}$)**"
   ]
  },
  {
   "cell_type": "markdown",
   "metadata": {},
   "source": [
    "### 2. Choose the appropiate statistical test: verify the assumptions\n",
    "1. ** Independent two-sample t-test unequal sample sizes, equal variance ** \n",
    "2. Set significance level: 5% risk of concluding that there is a difference when there is no actual difference.\n",
    "3. Asumptions: Both population have distributions close to the normal distribution with equal variance."
   ]
  },
  {
   "cell_type": "code",
   "execution_count": 52,
   "metadata": {
    "collapsed": false
   },
   "outputs": [
    {
     "data": {
      "text/plain": [
       "gender\n",
       "female    43.372492\n",
       "male      46.153605\n",
       "Name: bad_chol, dtype: float64"
      ]
     },
     "execution_count": 52,
     "metadata": {},
     "output_type": "execute_result"
    }
   ],
   "source": [
    "diabetes.groupby('gender')['bad_chol'].std()"
   ]
  },
  {
   "cell_type": "code",
   "execution_count": 51,
   "metadata": {
    "collapsed": false
   },
   "outputs": [
    {
     "data": {
      "image/png": "[encoded data removed]",
      "text/plain": [
       "<matplotlib.figure.Figure at 0xaa40cc0>"
      ]
     },
     "metadata": {},
     "output_type": "display_data"
    }
   ],
   "source": [
    "fig, ax = plt.subplots(nrows=1, ncols=2,figsize=(12,4.5))\n",
    "sns.distplot(diabetes['bad_chol'][diabetes['gender']=='male'], ax=ax[0])\n",
    "sns.distplot(diabetes['bad_chol'][diabetes['gender']=='female'], ax=ax[1])\n",
    "ax[0].set_title('Bad Cholesterol: Male')\n",
    "ax[1].set_title('Bad Cholesterol: Female');"
   ]
  },
  {
   "cell_type": "code",
   "execution_count": 53,
   "metadata": {
    "collapsed": false
   },
   "outputs": [
    {
     "data": {
      "text/html": [
       "<div>\n",
       "<table border=\"1\" class=\"dataframe\">\n",
       "  <thead>\n",
       "    <tr style=\"text-align: right;\">\n",
       "      <th></th>\n",
       "      <th>mean</th>\n",
       "      <th>std</th>\n",
       "      <th>size</th>\n",
       "    </tr>\n",
       "    <tr>\n",
       "      <th>gender</th>\n",
       "      <th></th>\n",
       "      <th></th>\n",
       "      <th></th>\n",
       "    </tr>\n",
       "  </thead>\n",
       "  <tbody>\n",
       "    <tr>\n",
       "      <th>female</th>\n",
       "      <td>156.324786</td>\n",
       "      <td>43.372492</td>\n",
       "      <td>234.0</td>\n",
       "    </tr>\n",
       "    <tr>\n",
       "      <th>male</th>\n",
       "      <td>158.893491</td>\n",
       "      <td>46.153605</td>\n",
       "      <td>169.0</td>\n",
       "    </tr>\n",
       "  </tbody>\n",
       "</table>\n",
       "</div>"
      ],
      "text/plain": [
       "              mean        std   size\n",
       "gender                              \n",
       "female  156.324786  43.372492  234.0\n",
       "male    158.893491  46.153605  169.0"
      ]
     },
     "execution_count": 53,
     "metadata": {},
     "output_type": "execute_result"
    }
   ],
   "source": [
    "diabetes.groupby('gender')['bad_chol'].agg([np.mean, np.std, np.size])"
   ]
  },
  {
   "cell_type": "markdown",
   "metadata": {},
   "source": [
    "### 3. Compute test statistic and p-value\n",
    "![ttest](https://wikimedia.org/api/rest_v1/media/math/render/svg/faf70034d0a3a686080b98b32f64f2cc62a5dbad)\n",
    "Where:\n",
    "![sp](https://wikimedia.org/api/rest_v1/media/math/render/svg/aba44fcd32d9306b7b5883d6a89c2ff375f17d5a)\n",
    "\n",
    "**t** is a random variable that follows a t distribution with $n_{1}+n_{2}-2$ degrees of freedom."
   ]
  },
  {
   "cell_type": "code",
   "execution_count": 54,
   "metadata": {
    "collapsed": false
   },
   "outputs": [
    {
     "data": {
      "text/plain": [
       "Ttest_indResult(statistic=-0.57105728123142352, pvalue=0.56828070490862936)"
      ]
     },
     "execution_count": 54,
     "metadata": {},
     "output_type": "execute_result"
    }
   ],
   "source": [
    "stats.ttest_ind(\n",
    "    a=diabetes['bad_chol'][diabetes['gender']=='female'],\n",
    "    b=diabetes['bad_chol'][diabetes['gender']=='male']   \n",
    ")"
   ]
  },
  {
   "cell_type": "markdown",
   "metadata": {},
   "source": [
    "### 4. Interpret the result:\n",
    "Given that our p-value (0.5682) is greater than our pre-defined significance level (5%) we conclude that there is no evidence to reject the Null Hypothesis, we can not conclude that the population means of the variable of interest are different."
   ]
  },
  {
   "cell_type": "markdown",
   "metadata": {},
   "source": [
    "### Question 2: Is there a difference in bad cholesterol mean levels in patients with diabetes with small frame and those who don't have small frame?"
   ]
  },
  {
   "cell_type": "code",
   "execution_count": null,
   "metadata": {
    "collapsed": true
   },
   "outputs": [],
   "source": [
    "# 1. Define your hypothesis:\n",
    "# H0: there is no difference in the population means for the two groups\n",
    "# H1: there is a difference in the population means for the two groups"
   ]
  },
  {
   "cell_type": "code",
   "execution_count": 55,
   "metadata": {
    "collapsed": false
   },
   "outputs": [
    {
     "data": {
      "text/html": [
       "<div>\n",
       "<table border=\"1\" class=\"dataframe\">\n",
       "  <thead>\n",
       "    <tr style=\"text-align: right;\">\n",
       "      <th></th>\n",
       "      <th>mean</th>\n",
       "      <th>std</th>\n",
       "      <th>size</th>\n",
       "    </tr>\n",
       "    <tr>\n",
       "      <th>frame</th>\n",
       "      <th></th>\n",
       "      <th></th>\n",
       "      <th></th>\n",
       "    </tr>\n",
       "  </thead>\n",
       "  <tbody>\n",
       "    <tr>\n",
       "      <th>False</th>\n",
       "      <td>162.722408</td>\n",
       "      <td>45.327294</td>\n",
       "      <td>299.0</td>\n",
       "    </tr>\n",
       "    <tr>\n",
       "      <th>True</th>\n",
       "      <td>142.105769</td>\n",
       "      <td>38.386112</td>\n",
       "      <td>104.0</td>\n",
       "    </tr>\n",
       "  </tbody>\n",
       "</table>\n",
       "</div>"
      ],
      "text/plain": [
       "             mean        std   size\n",
       "frame                              \n",
       "False  162.722408  45.327294  299.0\n",
       "True   142.105769  38.386112  104.0"
      ]
     },
     "execution_count": 55,
     "metadata": {},
     "output_type": "execute_result"
    }
   ],
   "source": [
    "# 2. Choose the appropiate statistical test: the same as above. The assumpsions are more or less fulfilled.\n",
    "diabetes.groupby(diabetes['frame']=='small')['bad_chol'].agg([np.mean, np.std, np.size])"
   ]
  },
  {
   "cell_type": "code",
   "execution_count": 56,
   "metadata": {
    "collapsed": false,
    "scrolled": true
   },
   "outputs": [
    {
     "data": {
      "image/png": "[encoded data removed]",
      "text/plain": [
       "<matplotlib.figure.Figure at 0xa5b6128>"
      ]
     },
     "metadata": {},
     "output_type": "display_data"
    }
   ],
   "source": [
    "fig, ax = plt.subplots(nrows=1, ncols=2,figsize=(12,4.5))\n",
    "sns.distplot(diabetes['bad_chol'][diabetes['frame']=='small'], ax=ax[0])\n",
    "sns.distplot(diabetes['bad_chol'][diabetes['frame']!='small'], ax=ax[1])\n",
    "ax[0].set_title('Bad Cholesterol: small frame')\n",
    "ax[1].set_title('Bad Cholesterol: not Small frame');"
   ]
  },
  {
   "cell_type": "code",
   "execution_count": 57,
   "metadata": {
    "collapsed": false
   },
   "outputs": [
    {
     "data": {
      "text/plain": [
       "Ttest_indResult(statistic=-4.1489159917071987, pvalue=4.0809532247235491e-05)"
      ]
     },
     "execution_count": 57,
     "metadata": {},
     "output_type": "execute_result"
    }
   ],
   "source": [
    "# 3. Compute the test statistic\n",
    "stats.ttest_ind(\n",
    "    a=diabetes['bad_chol'][diabetes['frame']=='small'],\n",
    "    b=diabetes['bad_chol'][diabetes['frame']!='small']   \n",
    ")"
   ]
  },
  {
   "cell_type": "markdown",
   "metadata": {},
   "source": [
    "#### 4. Conclusion\n",
    "Given that our p-value (4.08e-05) is much(!) smaller than our pre-defined significance level (5%) we conclude that there is strong evidence to **reject** the Null Hypothesis, therefore we say that the population means of bad colesterol are different among the two groups."
   ]
  },
  {
   "cell_type": "markdown",
   "metadata": {},
   "source": [
    "### A few words of advice on hypothesis testing:\n",
    "\n",
    "1. There are literally hundreds of hypothesis tests you have to look for the appropiate one for your problem.\n",
    "2. Always verify the assumptions of the tests.\n",
    "3. Other **very** important related topics are: statistical power, effect size, sample sizes, types of errors and others.\n",
    "4. Avoid to give over-simplified conclusions (like the ones in our examples): provide context, discuss if the difference is not only statistically significant, but if the potential difference is important in practice (effect size).\n",
    "5. There are more complex and more informative ways to do statistical inference than hypothesis testing, this is a huge topic out of the scope of this course. Keep in mind the hypothesis testing has been widely critized, use it wisely."
   ]
  },
  {
   "cell_type": "markdown",
   "metadata": {},
   "source": [
    "### Resources and References\n",
    "\n",
    "* Probability and Statistics for Engineering and the Sciences (Devore)\n",
    "* Mathematical Statistics with Applications (Wackerly, Mendenhall & Scheaffer)\n",
    "* Statistical Inference (Casella & Berger)\n",
    "* The Elements of Statistical Learning: Data Mining, Inference, and Prediction (Hastie, Tibshirani & Friedman)\n",
    "* Scipy Stats documentaion: http://docs.scipy.org/doc/scipy/reference/stats.html\n",
    "* StatModels package: http://statsmodels.sourceforge.net/stable/stats.html"
   ]
  }
 ],
 "metadata": {
  "kernelspec": {
   "display_name": "Python 2",
   "language": "python",
   "name": "python2"
  },
  "language_info": {
   "codemirror_mode": {
    "name": "ipython",
    "version": 2
   },
   "file_extension": ".py",
   "mimetype": "text/x-python",
   "name": "python",
   "nbconvert_exporter": "python",
   "pygments_lexer": "ipython2",
   "version": "2.7.11"
  }
 },
 "nbformat": 4,
 "nbformat_minor": 0
}
