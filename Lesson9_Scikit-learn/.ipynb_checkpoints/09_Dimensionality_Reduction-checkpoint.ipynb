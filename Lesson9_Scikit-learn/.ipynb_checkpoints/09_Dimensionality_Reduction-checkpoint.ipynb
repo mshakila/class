{
 "cells": [
  {
   "cell_type": "markdown",
   "metadata": {},
   "source": [
    "# Dimensionality Reduction \n",
    "\n",
    "In machine learning and statistics, dimensionality reduction or dimension reduction is the process of reducing the number of variables under consideration, via obtaining a set of principal variables."
   ]
  },
  {
   "cell_type": "markdown",
   "metadata": {},
   "source": [
    "## Principal component analysis (PCA)"
   ]
  },
  {
   "cell_type": "markdown",
   "metadata": {},
   "source": [
    "PCA is used to decompose a multivariate dataset in a set of successive orthogonal components that explain a maximum amount of the variance. In scikit-learn, PCA is implemented as a transformer object that learns n components in its fit method, and can be used on new data to project it on these components. It's easiest to visualize by looking at a two-dimensional dataset:"
   ]
  },
  {
   "cell_type": "markdown",
   "metadata": {},
   "source": [
    "![](http://weigend.com/files/teaching/stanford/2008/stanford2008.wikispaces.com/file/view/pca_example.gif)"
   ]
  },
  {
   "cell_type": "markdown",
   "metadata": {},
   "source": [
    "### Reducing the iris dataset from 4 to 2 dimensions"
   ]
  },
  {
   "cell_type": "code",
   "execution_count": null,
   "metadata": {
    "collapsed": true
   },
   "outputs": [],
   "source": [
    "%matplotlib inline\n",
    "import numpy as np\n",
    "from pandas import DataFrame\n",
    "import matplotlib.pyplot as plt\n",
    "from scipy import stats\n",
    "import seaborn as sns\n",
    "from sklearn import datasets\n",
    "sns.set(style=\"whitegrid\")"
   ]
  },
  {
   "cell_type": "code",
   "execution_count": null,
   "metadata": {
    "collapsed": false
   },
   "outputs": [],
   "source": [
    "iris = datasets.load_iris()\n",
    "iris_df = DataFrame(iris.data, columns=iris.feature_names)\n",
    "iris_df.rename(columns=lambda x: x[:-5], inplace=True)\n",
    "iris_df['species'] = iris.target_names[iris.target]\n",
    "iris_df.head()"
   ]
  },
  {
   "cell_type": "code",
   "execution_count": null,
   "metadata": {
    "collapsed": true
   },
   "outputs": [],
   "source": [
    "from sklearn.decomposition import PCA"
   ]
  },
  {
   "cell_type": "code",
   "execution_count": null,
   "metadata": {
    "collapsed": false
   },
   "outputs": [],
   "source": [
    "X = iris_df.ix[:,0:4].values\n",
    "pca = PCA(n_components=2)\n",
    "pca.fit(X)\n",
    "print pca.explained_variance_ratio_\n",
    "print pca.components_"
   ]
  },
  {
   "cell_type": "code",
   "execution_count": null,
   "metadata": {
    "collapsed": false
   },
   "outputs": [],
   "source": [
    "X_2dim = pca.transform(X)\n",
    "print X_2dim.shape\n",
    "X_2dim[0:5,:]"
   ]
  },
  {
   "cell_type": "code",
   "execution_count": null,
   "metadata": {
    "collapsed": true
   },
   "outputs": [],
   "source": [
    "iris_df['PCA_dim1'] = X_2dim[:,0]\n",
    "iris_df['PCA_dim2'] = X_2dim[:,1]"
   ]
  },
  {
   "cell_type": "code",
   "execution_count": null,
   "metadata": {
    "collapsed": false
   },
   "outputs": [],
   "source": [
    "sns.lmplot(x='PCA_dim1',y='PCA_dim2', hue='species', data=iris_df, fit_reg=False, aspect=1.5);"
   ]
  },
  {
   "cell_type": "markdown",
   "metadata": {},
   "source": [
    "### Reducing Petals and Sepals to one variable each"
   ]
  },
  {
   "cell_type": "code",
   "execution_count": null,
   "metadata": {
    "collapsed": false
   },
   "outputs": [],
   "source": [
    "#Petals\n",
    "petal_vars = ['petal length','petal width']\n",
    "X_petal = iris_df[petal_vars].values\n",
    "pca1 = PCA(n_components=1)\n",
    "pca1.fit(X_petal)\n",
    "X_petal = pca1.transform(X_petal)\n",
    "\n",
    "#Sepals\n",
    "sepal_vars = ['sepal length','sepal width']\n",
    "X_sepal = iris_df[sepal_vars].values\n",
    "pca2 = PCA(n_components=1)\n",
    "pca2.fit(X_sepal)\n",
    "X_sepal = pca2.transform(X_sepal)"
   ]
  },
  {
   "cell_type": "code",
   "execution_count": null,
   "metadata": {
    "collapsed": true
   },
   "outputs": [],
   "source": [
    "iris_df['Petal'] = X_petal.flat\n",
    "iris_df['Sepal'] = X_sepal.flat"
   ]
  },
  {
   "cell_type": "code",
   "execution_count": null,
   "metadata": {
    "collapsed": false
   },
   "outputs": [],
   "source": [
    "sns.lmplot(x='Petal', y='Sepal', hue='species', data=iris_df, fit_reg=False, aspect=1.5);"
   ]
  },
  {
   "cell_type": "markdown",
   "metadata": {},
   "source": [
    "** Other Dimensionality Reducting Routines **:\n",
    "\n",
    "Note that scikit-learn contains many other unsupervised dimensionality reduction routines: some you might wish to try are Other dimensionality reduction techniques which are useful to know about:\n",
    "\n",
    "- sklearn.decomposition.PCA: Principal Component Analysis\n",
    "- sklearn.decomposition.RandomizedPCA: extremely fast approximate PCA implementation based on a randomized algorithm\n",
    "- sklearn.decomposition.SparsePCA: PCA variant including L1 penalty for sparsity\n",
    "- sklearn.decomposition.FastICA: Independent Component Analysis\n",
    "- sklearn.decomposition.NMF: non-negative matrix factorization\n",
    "- sklearn.manifold.LocallyLinearEmbedding: nonlinear manifold learning technique based on local neighborhood geometry\n",
    "- sklearn.manifold.IsoMap: nonlinear manifold learning technique based on a sparse graph algorithm\n",
    "\n",
    "Each of these has its own strengths & weaknesses, and areas of application. You can read about them on the scikit-learn website."
   ]
  },
  {
   "cell_type": "code",
   "execution_count": null,
   "metadata": {
    "collapsed": false
   },
   "outputs": [],
   "source": [
    "from IPython.core.display import HTML\n",
    "def css_styling():\n",
    "    styles = open(\"styles/custom.css\", \"r\").read()\n",
    "    return HTML(styles)\n",
    "css_styling()"
   ]
  }
 ],
 "metadata": {
  "kernelspec": {
   "display_name": "Python 2",
   "language": "python",
   "name": "python2"
  },
  "language_info": {
   "codemirror_mode": {
    "name": "ipython",
    "version": 2
   },
   "file_extension": ".py",
   "mimetype": "text/x-python",
   "name": "python",
   "nbconvert_exporter": "python",
   "pygments_lexer": "ipython2",
   "version": "2.7.11"
  }
 },
 "nbformat": 4,
 "nbformat_minor": 0
}
